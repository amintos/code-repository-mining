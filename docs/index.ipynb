{
 "cells": [
  {
   "cell_type": "markdown",
   "metadata": {},
   "source": [
    "# Automatically detecting security-relevant system weaknesses\n",
    "                             <div style=\"text-align: right\">-- handed in by Felix Wolff | 765508</div>\n",
    "                             *Code Repository Mining* seminar at Hasso-Plattner-Institute\n",
    "                             winter term 2017/2018"
   ]
  },
  {
   "cell_type": "markdown",
   "metadata": {},
   "source": [
    "This document explains the reasoning behind the technical solution implemented for the topic *Effects of high-profile incidents on code*. It first covers the application features, the data analysis and the logic leading to several implementation decisions, as well as the data structure inside the database. Furthermore it explains why the topical shift was made.\n",
    "\n",
    "The code for this project can be found [here](https://github.com/flxw/code-repository-mining).\n",
    "The intermediate presentation slides can be found [here](https://github.com/flxw/code-repository-mining/blob/master/docs/CRM%20Intermediate%20Presentation%20Felix%20Wolff.pdf).\n",
    "The final presentation slides can be found here:"
   ]
  },
  {
   "cell_type": "code",
   "execution_count": 9,
   "metadata": {},
   "outputs": [
    {
     "name": "stdout",
     "output_type": "stream",
     "text": [
      "The sql extension is already loaded. To reload it, use:\n",
      "  %reload_ext sql\n"
     ]
    }
   ],
   "source": [
    "import requests\n",
    "import time\n",
    "import re\n",
    "import psycopg2\n",
    "import os\n",
    "\n",
    "import plotly.plotly as py\n",
    "import plotly.graph_objs as go\n",
    "\n",
    "import cufflinks as cf\n",
    "import pandas as pd\n",
    "\n",
    "from scipy import stats\n",
    "\n",
    "PLOTLY_UN    = os.environ.get(\"PLOTLY_UN\")\n",
    "PLOTLY_TOKEN = os.environ.get(\"PLOTLY_TOKEN\")\n",
    "\n",
    "POSTGRES_DB_NAME = os.environ.get(\"POSTGRES_DB_NAME\")\n",
    "POSTGRES_DB_UN   = os.environ.get(\"POSTGRES_DB_UN\")\n",
    "POSTGRES_DB_PW   = os.environ.get(\"POSTGRES_DB_PW\")\n",
    "POSTGRES_DB_HOST = os.environ.get(\"POSTGRES_DB_HOST\")\n",
    "connect_to_db = 'postgresql+psycopg2://' + \\\n",
    "                POSTGRES_DB_UN + ':' + POSTGRES_DB_PW + '@' + \\\n",
    "                POSTGRES_DB_HOST + '/' + POSTGRES_DB_NAME;\n",
    "\n",
    "%load_ext sql\n",
    "%config echo=False\n",
    "%sql $connect_to_db\n",
    "connection = psycopg2.connect(dbname=POSTGRES_DB_NAME, user=POSTGRES_DB_UN, password=POSTGRES_DB_PW);\n",
    "cursor     = connection.cursor()\n"
   ]
  },
  {
   "cell_type": "markdown",
   "metadata": {},
   "source": [
    "# The technical solution"
   ]
  },
  {
   "attachments": {},
   "cell_type": "markdown",
   "metadata": {},
   "source": [
    "Upon running the script `client/checksystem.py`, all packages installed via the distribution-default package manager are checked for known weaknesses. For every weakness found, a block of information is printed as follows:\n",
    "```\n",
    "CVE-2013-0166 released on Friday 08. February 2013\n",
    "OpenSSL before 0.9.8y, 1.0.0 before 1.0.0k, and 1.0.1 before 1.0.1d does not properly perform signature verification for OCSP responses, which allows remote OCSP servers to cause a denial of service (NULL pointer dereference and application crash) via an invalid key.\n",
    "Official NIST entry: https://nvd.nist.gov/vuln/detail/CVE-2013-0166\n",
    "Recommended information source (16.4% of total references for this CWE): http://www.kb.cert.org/vuls/id/737740\n",
    "A knowledgeable Twitter and Github user might be: https://github.com/delphij - as 91.5% of his posts are on this kind of CWE\n",
    "```\n",
    "\n",
    "Line by line this reveals the following information:\n",
    "1. The CVE-ID (for a refresher read [Wikipeda](https://en.wikipedia.org/wiki/Common_Vulnerabilities_and_Exposures)) and its publishing date\n",
    "2. A brief description of the vulnerability, also taken from the National Institute for Standards and Technology (NIST)\n",
    "3. The official NIST database link\n",
    "4. An information source which is probably of good help to the user\n",
    "5. A person who is both active on Github and Twitter in the domain of cybersecurity and who might be of assistance. The tweets are being segmented by [CWEs](https://cwe.mitre.org/about/).\n",
    "\n",
    "This application offers a huge improvement over the [complicated search form at NIST](https://nvd.nist.gov/vuln/search). Furthermore it contributes to the trend of automatic vulnerability detection systems, as made evident by [JFrogs XRay](https://jfrog.com/xray/) and GitHubs [recent addition to its data services](https://github.com/blog/2470-introducing-security-alerts-on-github).\n",
    "\n",
    "After an explanation of the dataset, the logic behind the information items 4 and 5 shall be described in detail."
   ]
  },
  {
   "attachments": {},
   "cell_type": "markdown",
   "metadata": {},
   "source": [
    "# Data origins\n",
    "\n",
    "Three datasets from different sources were cobined to create the foundations for the application and analysis presented in this document - all inside a PostgreSQL database:\n",
    "\n",
    "1. A complete [ghtorrent](http://ghtorrent.org/) dump\n",
    "2. Tweets referring to CVE-IDs that were also referred to by commits from the above source. To accomplish this, [TweetScraper](github.com/flxw/tweetscraper) was forked and extended with PostgreSQL saving capabilities.\n",
    "3. An extraction of relevant data via ETL from the [cve-search](github.com/cve-search/cve-search) project.\n",
    "\n",
    "The different tables and their origin are denoted below (views in *italic*):\n",
    "\n",
    "| ghtorrent     | Twitter | cve-search |\n",
    "| ------------- | ------------- |-------|\n",
    "| commits  | cve_referring_tweets  | cwe |\n",
    "| *view_commits_search_for_cve*  | *view_cve_referring_tweets_extracted_domains*  | cve_per_product_version | \n",
    "||*view_cve_referring_tweets_extracted_cves*|cve_cwe_classification|\n",
    "|||cvereference|\n",
    "|||*view_cvereference_extracted_domains*|\n",
    "|||cve|"
   ]
  },
  {
   "cell_type": "markdown",
   "metadata": {},
   "source": [
    "# User recommendations"
   ]
  },
  {
   "cell_type": "markdown",
   "metadata": {},
   "source": [
    "In order to recommend a person from the plethora of Twitter and GitHub users who might be an expert on a software error, several criteria were introduced:\n",
    "1. The user uses the same name in both GitHub and Twitter.\n",
    "2. The user has tweeted about the same CWE as the current CVE in question. (I.e. he knows this type of vulnerability)\n",
    "\n",
    "An important assumption here that identical usernames belong to the same person. In a sampling test, this held true for the following users:\n",
    "* zisk0 - [Twitter](https://twitter.com/zisk0) - [GitHub](https://github.com/zisk0)\n",
    "* nahi - [Twitter](https://twitter.com/nahi) - [GitHub](https://github.com/nahi)\n",
    "* fdiskyou - [Twitter](https://twitter.com/fdiskyou) - [GitHub](https://github.com/fdiskyou)\n",
    "* citypw - [Twitter](https://twitter.com/citypw) - [GitHub](https://github.com/citypw)\n",
    "* breenmachine - [Twitter](https://twitter.com/breenmachine) - [GitHub](https://github.com/breenmachine)\n",
    "\n",
    "As the following graph shows, more GitHub users are becoming more active on Twitter and their tweets are fairly evenly distributed across the users every year. This trend needs to be seen in connection with the growing number of GitHub users."
   ]
  },
  {
   "cell_type": "code",
   "execution_count": 31,
   "metadata": {},
   "outputs": [
    {
     "data": {
      "text/html": [
       "<iframe id=\"igraph\" scrolling=\"no\" style=\"border:none;\" seamless=\"seamless\" src=\"https://plot.ly/~flxw/33.embed\" height=\"800px\" width=\"100%\"></iframe>"
      ],
      "text/plain": [
       "<plotly.tools.PlotlyDisplay object>"
      ]
     },
     "execution_count": 31,
     "metadata": {},
     "output_type": "execute_result"
    }
   ],
   "source": [
    "query = \"\"\"\n",
    "SELECT\n",
    "    DISTINCT t.username,\n",
    "    extract(year from t.timestamp) AS t_year,\n",
    "    COUNT(t.id) OVER (PARTITION BY t.username, extract(year from t.timestamp)) AS t_user_count,\n",
    "    COUNT(t.id) OVER (PARTITION BY extract(year from t.timestamp)) AS t_year_count\n",
    "FROM cve_referring_tweets t\n",
    "JOIN view_commit_data_search_for_cve vc ON vc.name = t.username\n",
    "ORDER BY t.username, t_year\"\"\"\n",
    "\n",
    "df = pd.read_sql_query(query, connection)\n",
    "\n",
    "lyt = go.Layout(\n",
    "    title='Same Github & Twitter handles over time and share-of-year-volume',\n",
    "    font=dict(family='Open Sans, monospace', size=12, color='#888888'),\n",
    "    autosize=False,\n",
    "    height=800,\n",
    "    margin=go.Margin(\n",
    "      l=175\n",
    "    ),\n",
    "    xaxis=dict(title='CWE IDs'),\n",
    "    yaxis=dict(title='Usernames')\n",
    ")\n",
    "\n",
    "data = [\n",
    "    {\n",
    "        'x': df.t_year,\n",
    "        'y': df.username,\n",
    "        'mode': 'markers',\n",
    "        'marker': {\n",
    "            'color': df.t_user_count / df.t_year_count,\n",
    "            'size': 10,\n",
    "            'showscale': True,\n",
    "            \"colorscale\": [ [0,\"rgb(40,171,226)\"], [1,\"rgb(247,146,58)\"] ]\n",
    "        }\n",
    "\n",
    "    }\n",
    "]\n",
    "\n",
    "fig = go.Figure(data = data, layout = lyt)\n",
    "py.iplot(fig, filename='same-userhandles-time-volume-bubble-chart')"
   ]
  },
  {
   "cell_type": "markdown",
   "metadata": {},
   "source": [
    "Not only is the number of Tweets increasing every year, but also do some users appear to be knowledgeable in certain areas. This becomes apprarent when plotting their share of the total number of tweets for a given CWE against the individual CWE IDs and usernames. The graph below shows a selection of users who have contributed more than 10% to the total number of tweets:"
   ]
  },
  {
   "cell_type": "code",
   "execution_count": 33,
   "metadata": {},
   "outputs": [
    {
     "data": {
      "text/html": [
       "<iframe id=\"igraph\" scrolling=\"no\" style=\"border:none;\" seamless=\"seamless\" src=\"https://plot.ly/~flxw/37.embed\" height=\"600px\" width=\"100%\"></iframe>"
      ],
      "text/plain": [
       "<plotly.tools.PlotlyDisplay object>"
      ]
     },
     "execution_count": 33,
     "metadata": {},
     "output_type": "execute_result"
    }
   ],
   "source": [
    "query = \"\"\"\n",
    "SELECT\n",
    "    DISTINCT t.username,\n",
    "    ccc.cweid,\n",
    "    COUNT(t.id) OVER (PARTITION BY t.username, ccc.cweid) AS t_cwe_count,\n",
    "    COUNT(t.id) OVER (PARTITION BY ccc.cweid) AS t_count\n",
    "FROM cve_referring_tweets t\n",
    "JOIN view_commit_data_search_for_cve vc ON vc.name = t.username\n",
    "JOIN view_cve_referring_tweets_extracted_cves ec ON t.id = ec.tweet_id\n",
    "JOIN cve_cwe_classification ccc ON ec.cve = ccc.cveid\"\"\"\n",
    "\n",
    "df = pd.read_sql_query(query, connection)\n",
    "\n",
    "lyt = go.Layout(\n",
    "    title='Same Github & Twitter handles over time and greater-than-10%-share-of-cwe-volume',\n",
    "    font=dict(family='Open Sans, monospace', size=12, color='#888888'),\n",
    "    autosize=False,\n",
    "    height=600,\n",
    "    margin=go.Margin(\n",
    "      l=175\n",
    "    ),\n",
    "    xaxis=dict(title='CWE IDs'),\n",
    "    yaxis=dict(title='Usernames')\n",
    ")\n",
    "\n",
    "ratio = df.t_cwe_count / df.t_count\n",
    "\n",
    "data = [\n",
    "    {\n",
    "        'x': df.cweid[ratio > 0.1],\n",
    "        'y': df.username[ratio > 0.1],\n",
    "        'mode': 'markers',\n",
    "        'marker': {\n",
    "            'color': ratio,\n",
    "            'size': 10,\n",
    "            'showscale': True,\n",
    "            \"colorscale\": [ [0,\"rgb(40,171,226)\"], [1,\"rgb(247,146,58)\"] ]\n",
    "        }\n",
    "    }\n",
    "]\n",
    "\n",
    "fig = go.Figure(data = data, layout = lyt)\n",
    "py.iplot(fig, filename='same-userhandles-cwe-volume-bubble-chart')"
   ]
  },
  {
   "cell_type": "markdown",
   "metadata": {},
   "source": [
    "# Source recommendation"
   ]
  },
  {
   "cell_type": "markdown",
   "metadata": {},
   "source": [
    "## Twitter references"
   ]
  },
  {
   "cell_type": "markdown",
   "metadata": {},
   "source": [
    "## NIST references"
   ]
  },
  {
   "cell_type": "markdown",
   "metadata": {},
   "source": [
    "# Data sources"
   ]
  },
  {
   "cell_type": "markdown",
   "metadata": {},
   "source": [
    "# Data structure and size"
   ]
  },
  {
   "cell_type": "markdown",
   "metadata": {},
   "source": [
    "# Future work"
   ]
  },
  {
   "cell_type": "markdown",
   "metadata": {},
   "source": [
    "# Justification of topic adaption"
   ]
  }
 ],
 "metadata": {
  "kernelspec": {
   "display_name": "Python 3",
   "language": "python",
   "name": "python3"
  },
  "language_info": {
   "codemirror_mode": {
    "name": "ipython",
    "version": 3
   },
   "file_extension": ".py",
   "mimetype": "text/x-python",
   "name": "python",
   "nbconvert_exporter": "python",
   "pygments_lexer": "ipython3",
   "version": "3.4.2"
  }
 },
 "nbformat": 4,
 "nbformat_minor": 2
}
