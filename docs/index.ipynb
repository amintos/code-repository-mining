{
 "cells": [
  {
   "cell_type": "markdown",
   "metadata": {},
   "source": [
    "# Automatically detecting security-relevant system weaknesses\n",
    "by Felix Wolff | 765508 | winter term 2017/2018\n",
    "\n",
    "*Code Repository Mining* seminar at Hasso-Plattner-Institute"
   ]
  },
  {
   "cell_type": "markdown",
   "metadata": {},
   "source": [
    "This document serves as the starting point into the documentation of the accomplishments of this semester. It explains the reasoning behind the technical solution implemented for the topic *Effects of high-profile incidents on code*. It first covers the application itself, its features, the data analysis and the logic leading to several implementation decisions, as well as the data structure inside the database. Furthermore it explains why the topical shift was made.\n",
    "\n",
    "The result of this project is a client-server application which scans the locally installed programs and libararies for known vulnerabilities registered at NIST. For the found vulnerabilities, promising references and experts on Twitter/GitHub are recommended.\n",
    "\n",
    "The code for this project can be found [here](https://github.com/flxw/code-repository-mining).\n",
    "The intermediate presentation slides can be found [here](https://github.com/flxw/code-repository-mining/blob/master/docs/CRM%20Intermediate%20Presentation%20Felix%20Wolff.pdf).\n",
    "The final presentation slides (going into technical detail and code) can be found [here](https://github.com/flxw/code-repository-mining/blob/master/docs/CRM%20Final%20Presentation%20Felix%20Wolff.pdf)."
   ]
  },
  {
   "cell_type": "code",
   "execution_count": 3,
   "metadata": {},
   "outputs": [],
   "source": [
    "import requests\n",
    "import time\n",
    "import re\n",
    "import psycopg2\n",
    "import os\n",
    "\n",
    "import plotly.plotly as py\n",
    "import plotly.graph_objs as go\n",
    "\n",
    "import cufflinks as cf\n",
    "import pandas as pd\n",
    "\n",
    "from scipy import stats\n",
    "\n",
    "PLOTLY_UN    = os.environ.get(\"PLOTLY_UN\")\n",
    "PLOTLY_TOKEN = os.environ.get(\"PLOTLY_TOKEN\")\n",
    "\n",
    "POSTGRES_DB_NAME = os.environ.get(\"POSTGRES_DB_NAME\")\n",
    "POSTGRES_DB_UN   = os.environ.get(\"POSTGRES_DB_UN\")\n",
    "POSTGRES_DB_PW   = os.environ.get(\"POSTGRES_DB_PW\")\n",
    "POSTGRES_DB_HOST = os.environ.get(\"POSTGRES_DB_HOST\")\n",
    "connect_to_db = 'postgresql+psycopg2://' + \\\n",
    "                POSTGRES_DB_UN + ':' + POSTGRES_DB_PW + '@' + \\\n",
    "                POSTGRES_DB_HOST + '/' + POSTGRES_DB_NAME;\n",
    "\n",
    "%load_ext sql\n",
    "%config echo=False\n",
    "%sql $connect_to_db\n",
    "connection = psycopg2.connect(dbname=POSTGRES_DB_NAME, user=POSTGRES_DB_UN, password=POSTGRES_DB_PW);\n",
    "cursor     = connection.cursor()\n"
   ]
  },
  {
   "cell_type": "markdown",
   "metadata": {},
   "source": [
    "# Motivation\n",
    "When the [Heartbleed bug](http://heartbleed.com/) was published on April 1st, 2014, many SSL-secured websites were suddenly open to attack. A fix was published on April 7th.\n",
    "\n",
    "On April 8th, data was [stolen from the Canada Revenue Agency](https://en.wikipedia.org/wiki/Heartbleed#Exploitation) by exploiting Heartbleed. An unfortunate incident that would have been avoidable.\n",
    "\n",
    "Had the systems administrators known about this vulnerability, this might not have happened. The following section shall introduce a tool that would have come in handy in this situation - a tool able to detect system vulnerabilities and give helpful pointers."
   ]
  },
  {
   "cell_type": "markdown",
   "metadata": {},
   "source": [
    "# The technical solution"
   ]
  },
  {
   "cell_type": "markdown",
   "metadata": {},
   "source": [
    "Upon running `client/checksystem.py`, all packages installed via the distribution-default package manager are checked for known weaknesses. For every weakness found, a block of information is printed as follows:\n",
    "```\n",
    "CVE-2013-0166 released on Friday 08. February 2013\n",
    "OpenSSL before 0.9.8y, 1.0.0 before 1.0.0k, and 1.0.1 before 1.0.1d does not properly perform signature verification for OCSP responses, which allows remote OCSP servers to cause a denial of service (NULL pointer dereference and application crash) via an invalid key.\n",
    "Official NIST entry: https://nvd.nist.gov/vuln/detail/CVE-2013-0166\n",
    "Recommended information source (16.4% of total references for this CWE): http://www.kb.cert.org/vuls/id/737740\n",
    "A knowledgeable Twitter and Github user might be: https://github.com/delphij - as 91.5% of his posts are on this kind of CWE\n",
    "```\n",
    "\n",
    "Line by line this reveals the following information:\n",
    "1. The [CVE-ID](https://en.wikipedia.org/wiki/Common_Vulnerabilities_and_Exposures) and its publishing date\n",
    "2. A brief description of the vulnerability, also taken from the National Institute for Standards and Technology (NIST)\n",
    "3. The official NIST database link\n",
    "4. An information source which might be helpful to the user\n",
    "5. A person who is both active on Github and Twitter in the domain of cybersecurity and who might be of assistance in the domain of the CVEs type, the [CWE](https://cwe.mitre.org/about/). He or she might be willing to offer consulting services.\n",
    "\n",
    "This application offers a huge improvement over the [complicated search form at NIST](https://nvd.nist.gov/vuln/search). Furthermore it contributes to the trend of automatic vulnerability detection systems, as made evident by [JFrogs XRay](https://jfrog.com/xray/) and GitHubs [recent addition to its data services](https://github.com/blog/2470-introducing-security-alerts-on-github)."
   ]
  },
  {
   "cell_type": "markdown",
   "metadata": {},
   "source": [
    "# Data origins\n",
    "\n",
    "Three datasets from different sources were cobined to create the foundations for the application and analysis presented in this document - all inside a PostgreSQL database:\n",
    "\n",
    "1. A complete [ghtorrent](http://ghtorrent.org/) dump\n",
    "2. Tweets referring to CVE-IDs that were also referred to by commits from the above source. To accomplish this, [TweetScraper](github.com/flxw/tweetscraper) was forked and extended with a PostgreSQL backend option.\n",
    "3. An extraction of relevant data via ETL from the [cve-search](github.com/cve-search/cve-search) project.\n",
    "\n",
    "The different tables and their origin are denoted below (views in *italic*):\n",
    "\n",
    "| ghtorrent     | Twitter | cve-search |\n",
    "| ------------- | ------------- |-------|\n",
    "| commits  | cve_referring_tweets  | cwe |\n",
    "| *view_commits_search_for_cve*  | *view_cve_referring_tweets_extracted_domains*  | cve_per_product_version | \n",
    "||*view_cve_referring_tweets_extracted_cves*|cve_cwe_classification|\n",
    "|||cvereference|\n",
    "|||*view_cvereference_extracted_domains*|\n",
    "|||cve|"
   ]
  },
  {
   "cell_type": "markdown",
   "metadata": {},
   "source": [
    "# User recommendations"
   ]
  },
  {
   "cell_type": "markdown",
   "metadata": {},
   "source": [
    "In order to recommend a person from the plethora of Twitter and GitHub users who might be an expert on a software error, several criteria were introduced:\n",
    "1. The user uses the same name in both GitHub and Twitter.\n",
    "2. The user has tweeted about the same CWE as the current CVE in question. (I.e. he knows this type of vulnerability)\n",
    "\n",
    "The following paragraphs explain the analysis and reasoning behind these criteria. An important assumption here is that identical usernames belong to the same person. Testing a small sample, this held true for the following users:\n",
    "* zisk0 - [Twitter](https://twitter.com/zisk0) - [GitHub](https://github.com/zisk0)\n",
    "* nahi - [Twitter](https://twitter.com/nahi) - [GitHub](https://github.com/nahi)\n",
    "* fdiskyou - [Twitter](https://twitter.com/fdiskyou) - [GitHub](https://github.com/fdiskyou)\n",
    "* citypw - [Twitter](https://twitter.com/citypw) - [GitHub](https://github.com/citypw)\n",
    "* breenmachine - [Twitter](https://twitter.com/breenmachine) - [GitHub](https://github.com/breenmachine)\n",
    "\n",
    "As the following graph shows, more GitHub users are becoming more active on Twitter and their tweets are fairly evenly distributed across the users every year. This trend needs to be seen in connection with the growing number of GitHub users."
   ]
  },
  {
   "cell_type": "code",
   "execution_count": 31,
   "metadata": {},
   "outputs": [
    {
     "data": {
      "text/html": [
       "<iframe id=\"igraph\" scrolling=\"no\" style=\"border:none;\" seamless=\"seamless\" src=\"https://plot.ly/~flxw/33.embed\" height=\"800px\" width=\"100%\"></iframe>"
      ],
      "text/plain": [
       "<plotly.tools.PlotlyDisplay object>"
      ]
     },
     "execution_count": 31,
     "metadata": {},
     "output_type": "execute_result"
    }
   ],
   "source": [
    "query = \"\"\"\n",
    "SELECT\n",
    "    DISTINCT t.username,\n",
    "    extract(year from t.timestamp) AS t_year,\n",
    "    COUNT(t.id) OVER (PARTITION BY t.username, extract(year from t.timestamp)) AS t_user_count,\n",
    "    COUNT(t.id) OVER (PARTITION BY extract(year from t.timestamp)) AS t_year_count\n",
    "FROM cve_referring_tweets t\n",
    "JOIN view_commit_data_search_for_cve vc ON vc.name = t.username\n",
    "ORDER BY t.username, t_year\"\"\"\n",
    "\n",
    "df = pd.read_sql_query(query, connection)\n",
    "\n",
    "lyt = go.Layout(\n",
    "    title='Same Github & Twitter handles over time and share-of-year-volume',\n",
    "    font=dict(family='Open Sans, monospace', size=12, color='#888888'),\n",
    "    autosize=False,\n",
    "    height=800,\n",
    "    margin=go.Margin(\n",
    "      l=175\n",
    "    ),\n",
    "    xaxis=dict(title='CWE IDs'),\n",
    "    yaxis=dict(title='Usernames')\n",
    ")\n",
    "\n",
    "data = [\n",
    "    {\n",
    "        'x': df.t_year,\n",
    "        'y': df.username,\n",
    "        'mode': 'markers',\n",
    "        'marker': {\n",
    "            'color': df.t_user_count / df.t_year_count,\n",
    "            'size': 10,\n",
    "            'showscale': True,\n",
    "            \"colorscale\": [ [0,\"rgb(40,171,226)\"], [1,\"rgb(247,146,58)\"] ]\n",
    "        }\n",
    "\n",
    "    }\n",
    "]\n",
    "\n",
    "fig = go.Figure(data = data, layout = lyt)\n",
    "py.iplot(fig, filename='same-userhandles-time-volume-bubble-chart')"
   ]
  },
  {
   "cell_type": "markdown",
   "metadata": {},
   "source": [
    "Not only is the number of Tweets increasing every year, but also do some users appear to be knowledgeable in certain areas. This becomes apparent when plotting their share of the total number of tweets for a given CWE against the individual CWE IDs and usernames. The graph below shows a selection of users who have contributed more than 10% to the total number of tweets:"
   ]
  },
  {
   "cell_type": "code",
   "execution_count": 20,
   "metadata": {},
   "outputs": [
    {
     "data": {
      "text/html": [
       "<iframe id=\"igraph\" scrolling=\"no\" style=\"border:none;\" seamless=\"seamless\" src=\"https://plot.ly/~flxw/37.embed\" height=\"600px\" width=\"100%\"></iframe>"
      ],
      "text/plain": [
       "<plotly.tools.PlotlyDisplay object>"
      ]
     },
     "execution_count": 20,
     "metadata": {},
     "output_type": "execute_result"
    }
   ],
   "source": [
    "query = \"\"\"\n",
    "SELECT\n",
    "    DISTINCT t.username,\n",
    "    ccc.cweid,\n",
    "    COUNT(t.id) OVER (PARTITION BY t.username, ccc.cweid) AS t_cwe_count,\n",
    "    COUNT(t.id) OVER (PARTITION BY ccc.cweid) AS t_count\n",
    "FROM cve_referring_tweets t\n",
    "JOIN view_commit_data_search_for_cve vc ON vc.name = t.username\n",
    "JOIN view_cve_referring_tweets_extracted_cves ec ON t.id = ec.tweet_id\n",
    "JOIN cve_cwe_classification ccc ON ec.cve = ccc.cveid\"\"\"\n",
    "\n",
    "df = pd.read_sql_query(query, connection)\n",
    "\n",
    "lyt = go.Layout(\n",
    "    title='Same Github & Twitter handles over time and greater-than-10%-share-of-cwe-volume',\n",
    "    font=dict(family='Open Sans, monospace', size=12, color='#888888'),\n",
    "    autosize=False,\n",
    "    height=600,\n",
    "    margin=go.Margin(\n",
    "      l=175\n",
    "    ),\n",
    "    xaxis=dict(title='CWE IDs'),\n",
    "    yaxis=dict(title='Usernames')\n",
    ")\n",
    "\n",
    "ratio = df.t_cwe_count / df.t_count * 100\n",
    "\n",
    "data = [\n",
    "    {\n",
    "        'x': df.cweid[ratio > 0.1],\n",
    "        'y': df.username[ratio > 0.1],\n",
    "        'mode': 'markers',\n",
    "        'marker': {\n",
    "            'color': ratio,\n",
    "            'size': 10,\n",
    "            'showscale': True,\n",
    "            \"colorscale\": [ [0,\"rgb(40,171,226)\"], [1,\"rgb(247,146,58)\"] ],\n",
    "            \"colorbar\": {\"ticksuffix\":\"%\"}\n",
    "        }\n",
    "    }\n",
    "]\n",
    "\n",
    "fig = go.Figure(data = data, layout = lyt)\n",
    "py.iplot(fig, filename='same-userhandles-cwe-volume-bubble-chart')"
   ]
  },
  {
   "cell_type": "markdown",
   "metadata": {},
   "source": [
    "# Reference recommendation"
   ]
  },
  {
   "cell_type": "markdown",
   "metadata": {},
   "source": [
    "```\n",
    "Recommended information source (16.4% of total references for this CWE): http://www.kb.cert.org/vuls/id/737740\n",
    "```\n",
    "\n",
    "Shown above is a reference recommendation, and this section shall give insight into the logical choices behind it. Initially, high hopes were put on the community-curated references from Twitter. Due to a small detail and little time at the end of the project, official NIST references were recommended instead."
   ]
  },
  {
   "cell_type": "markdown",
   "metadata": {},
   "source": [
    "## Twitter references"
   ]
  },
  {
   "cell_type": "markdown",
   "metadata": {},
   "source": [
    "All tweets referring to CVE-IDs from the *ghtorrent* database were crawled with a forked version of [TweetScraper](github.com/flxw/TweetScraper). From these tweets, a regular expression extracted every URL - an assumption that URLs posted with a CVE-ID represented a connection. Such a tweet and an embedded URL might look like the following:"
   ]
  },
  {
   "cell_type": "raw",
   "metadata": {},
   "source": [
    "<blockquote class=\"twitter-tweet\" data-cards=\"hidden\" data-lang=\"en\"><p lang=\"en\" dir=\"ltr\">another talk about CVE-2015-1805 <a href=\"https://t.co/4JcyIC14SV\">https://t.co/4JcyIC14SV</a></p>&mdash; Electric Wizard (@memcorrupt) <a href=\"https://twitter.com/memcorrupt/status/786136126050308096?ref_src=twsrc%5Etfw\">October 12, 2016</a></blockquote>\n",
    "<script async src=\"https://platform.twitter.com/widgets.js\" charset=\"utf-8\"></script>"
   ]
  },
  {
   "cell_type": "markdown",
   "metadata": {},
   "source": [
    "After extracting and connecting CVE-IDs to URLs, the domains were extracted from URLs in a second step. This was done to determine the popularity of a reference domain via aggregation. Unfortunately, the fact that most Twitter bots and Twitter itself use link shorteners, was missed. The aggregation was executed relatively late in the project, so there was not enough time left to perform a full URL resolution on 20000+ addresses.\n",
    "\n",
    "Even though no individual reference domains can be distinguished, the following bubble chart clearly shows an increasing number of tweets about vulnerabilities every year."
   ]
  },
  {
   "cell_type": "code",
   "execution_count": 6,
   "metadata": {},
   "outputs": [
    {
     "data": {
      "text/html": [
       "<iframe id=\"igraph\" scrolling=\"no\" style=\"border:none;\" seamless=\"seamless\" src=\"https://plot.ly/~flxw/27.embed\" height=\"500px\" width=\"100%\"></iframe>"
      ],
      "text/plain": [
       "<plotly.tools.PlotlyDisplay object>"
      ]
     },
     "execution_count": 6,
     "metadata": {},
     "output_type": "execute_result"
    }
   ],
   "source": [
    "query = \"\"\"\n",
    "SELECT *\n",
    "FROM (\n",
    "    SELECT ted.domain,\n",
    "           extract(year from t.timestamp) AS t_year,\n",
    "           SUM(t.retweet_count) AS rt_cnt,\n",
    "           SUM(t.favorite_count) AS fav_cnt,\n",
    "           COUNT(ted.domain) AS cnt \n",
    "    FROM view_cve_referring_tweets_extracted_domains ted \n",
    "    JOIN cve_referring_tweets t \n",
    "    ON t.id = ted.tweet_id \n",
    "    GROUP BY ted.domain, t_year \n",
    "    ORDER BY t_year DESC, cnt DESC \n",
    ") a \n",
    "WHERE cnt > 500\"\"\"\n",
    "\n",
    "df = pd.read_sql_query(query, connection)\n",
    "df = df.sort_values(by=['domain'], ascending = False)\n",
    "\n",
    "lyt = go.Layout(\n",
    "    title='Twitter 500+ reference sources by year and frequency',\n",
    "    autosize=False,\n",
    "    height=500,\n",
    "    margin=go.Margin(\n",
    "      l=175\n",
    "    ),\n",
    "    xaxis=dict(title=\"Year\"),\n",
    "    yaxis=dict(title=\"Reference domain\")\n",
    ")\n",
    "\n",
    "data = [\n",
    "    {\n",
    "        'x': df.t_year,\n",
    "        'y': df.domain,\n",
    "        'mode': 'markers',\n",
    "        'marker': {\n",
    "            'color': df.cnt,\n",
    "            'size': 10,\n",
    "            'showscale': True,\n",
    "            \"colorscale\": [ [0,\"rgb(40,171,226)\"], [1,\"rgb(247,146,58)\"] ]\n",
    "        }\n",
    "    }\n",
    "]\n",
    "\n",
    "fig = go.Figure(data = data, layout = lyt)\n",
    "py.iplot(fig, filename='twitter-source-cwe-popularity-bubble-chart')"
   ]
  },
  {
   "cell_type": "markdown",
   "metadata": {},
   "source": [
    "## NIST references"
   ]
  },
  {
   "cell_type": "markdown",
   "metadata": {},
   "source": [
    "After determining that tweeted references were unfit for use for the time being, the official NIST references attached to each CVE were analyzed and found to be good for use. Since CVE-IDs are given away [in blocks](https://cve.mitre.org/cve/request_id.html), their registration timestamp may be earlier than the initial disclosure of the vulnerability. Because of this, a time-wise analysis would have been unclean.\n",
    "\n",
    "Looking at a topical distribution segmented by CWE-IDs instead, it becomes apparent that references usually come from certain sources in the case of a selected vulnerability type. The following figure depicts which ones provide more than a 25% share of the total number of references to a specific CWE-ID."
   ]
  },
  {
   "cell_type": "code",
   "execution_count": 19,
   "metadata": {},
   "outputs": [
    {
     "data": {
      "text/html": [
       "<iframe id=\"igraph\" scrolling=\"no\" style=\"border:none;\" seamless=\"seamless\" src=\"https://plot.ly/~flxw/23.embed\" height=\"600px\" width=\"100%\"></iframe>"
      ],
      "text/plain": [
       "<plotly.tools.PlotlyDisplay object>"
      ]
     },
     "execution_count": 19,
     "metadata": {},
     "output_type": "execute_result"
    }
   ],
   "source": [
    "query = \"\"\"\n",
    "SELECT *, nrefs/nrefstotal::float * 100 AS refshare\n",
    "FROM (\n",
    "    SELECT DISTINCT cr.domain,\n",
    "           cvecwe.cweid,\n",
    "           COUNT(cr.domain) OVER (PARTITION BY cvecwe.cweid) AS nrefstotal,\n",
    "           COUNT(cr.domain) OVER (PARTITION BY cr.domain, cvecwe.cweid) AS nrefs\n",
    "    FROM view_cvereference_extracted_domains cr \n",
    "    JOIN cve_cwe_classification cvecwe \n",
    "    ON cr.cveid = cvecwe.cveid \n",
    "    ORDER BY nrefs DESC\n",
    ") a\n",
    "WHERE nrefs/nrefstotal::float > 0.25\"\"\"\n",
    "\n",
    "df = pd.read_sql_query(query, connection)\n",
    "df = df.sort_values(by=['domain'], ascending = False)\n",
    "\n",
    "lyt = go.Layout(\n",
    "    title='NIST reference sources by CWE and 25%+-share of total CWE references',\n",
    "    autosize=False,\n",
    "    height=600,\n",
    "    margin=go.Margin(\n",
    "      l=175\n",
    "    ),\n",
    "    xaxis=dict(title=\"CWE-ID\"),\n",
    "    yaxis=dict(title=\"Reference domain\")\n",
    ")\n",
    "\n",
    "data = [\n",
    "    {\n",
    "        'x': df.cweid,\n",
    "        'y': df.domain,\n",
    "        'mode': 'markers',\n",
    "        'marker': {\n",
    "            'color': df.refshare,\n",
    "            'size': 10,\n",
    "            'showscale': True,\n",
    "            \"colorscale\": [ [0,\"rgb(40,171,226)\"], [1,\"rgb(247,146,58)\"] ],\n",
    "            \"colorbar\": {\"ticksuffix\":\"%\"}\n",
    "        }\n",
    "    }\n",
    "]\n",
    "\n",
    "fig = go.Figure(data = data, layout = lyt)\n",
    "py.iplot(fig, filename='nist-reference-cwe-popularity-bubble-chart')"
   ]
  },
  {
   "cell_type": "markdown",
   "metadata": {},
   "source": [
    "# Data structure and size"
   ]
  },
  {
   "cell_type": "markdown",
   "metadata": {},
   "source": [
    "The following diagrams depict how the views that are ultimately used in the application are composed out of different tables. The super-second response time of the application can be explained when looking at the cardinalities of each table and view."
   ]
  },
  {
   "cell_type": "raw",
   "metadata": {},
   "source": [
    "<img class=\"materialboxed\" width=\"650\" src=\"https://raw.githubusercontent.com/flxw/code-repository-mining/master/docs/source%20recommendation%20data%20structure.png\" />"
   ]
  },
  {
   "cell_type": "raw",
   "metadata": {},
   "source": [
    "<img class=\"materialboxed\" width=\"650\" src=\"https://raw.githubusercontent.com/flxw/code-repository-mining/master/docs/user%20recommendation%20data%20structure.png\" />"
   ]
  },
  {
   "cell_type": "markdown",
   "metadata": {},
   "source": [
    "# Future work"
   ]
  },
  {
   "cell_type": "markdown",
   "metadata": {},
   "source": [
    "Some parts of the application still need work, especially run-time optimization. These work items are sorted from being considered easiest to hardest:\n",
    "\n",
    "1. Introduce indices to speed up certain lookups and joins\n",
    "    a. Keep an index on CVE-IDs that also have a CWE-ID\n",
    "2. Rewrite views to speed up and reduce the number of joins\n",
    "3. Unshorten the Twitter references, e.g. via Python and [urlunshort](https://pypi.python.org/pypi/urlunshort/0.2.4)\n",
    "3. Implement easy updating of both cve-search and Twitter information without intermediary saving with cve-search\n",
    "4. Implement version matching inside a SQL (for details see [here](https://github.com/flxw/code-repository-mining/blob/master/docs/CRM%20Final%20Presentation%20Felix%20Wolff.pdf))\n",
    "5. Implement a reliable product matching heuristic  (for details see [here](https://github.com/flxw/code-repository-mining/blob/master/docs/CRM%20Final%20Presentation%20Felix%20Wolff.pdf))\n",
    "6. Implement the system as a notification service. Right now, the application scans the users system completely every time it is invoked. There is merit to the idea of saving the system configuration on the server side, and reacting to vulnerabilities as they are released. Centralized saving of information that can reveal security vulnerabilities is unwise, which could be mitigated via running stubs of the database on each client. An alternative and easier approach might be a client that continously polls for vulnerability updates."
   ]
  },
  {
   "cell_type": "markdown",
   "metadata": {},
   "source": [
    "# Justification of topic adaption"
   ]
  },
  {
   "cell_type": "markdown",
   "metadata": {},
   "source": [
    "The initial research question was titled *Effects of High-profile Incidents on Code* and described as such\n",
    "* Incidents with widespread media coverage (e.g. Apple \"goto fail\" bug, Heartbleed, Loss of Space Missions, …) often result from mistakes that could have been avoided by strictly following best practices.\n",
    "* Goal: Find out if such incidents have large-scale effects on code quality (e.g. \"goto fail\" causing increased use of curly braces in single-line if-blocks across GitHub)\n",
    "\n",
    "Continuing the example, the goto-fail bug is identified as **CVE-2014-1266** and this bug is being referenced *two times* in the entire ghtorrent commit history. The initial assumption was that programmers learn from these bugs and change their programming style to be more defensive. Instead, one of the two commit messages (the other one is a gcc merge commit) reads:\n",
    "\n",
    "```\n",
    "Makefile.in: add -Wunreachable-code\n",
    "\n",
    "I was reading about the CVE-2014-1266 SSL/TLS Apple bug on\n",
    "ImperialViolet and learnt that clang has a separate flag for\n",
    "unreachable code, -Wunreachable-code, that is not included\n",
    "in the -Wall warnings [1].\n",
    "\n",
    "So, let's add -Wunreachable-code to Makefile.in.\n",
    "\n",
    "[1] https://www.imperialviolet.org/2014/02/22/applebug.html\n",
    "```\n",
    "\n",
    "As most of the bugs that receive a lot of media attention are a [mix of bad logic and human error](https://en.wikipedia.org/wiki/List_of_software_bugs). Practically no bug can be attributed to a simple programming error such as in the case of goto-fail, and without context it is hard to find out whether such behavior was not intended.\n",
    "\n",
    "This lead us to move away from looking at high-profile code incidents and focus on registered ones. CVE-IDs are being referenced more and more across GitHub, showing the growing awareness for security vulnerabilities - evidenced by the graph below. "
   ]
  },
  {
   "cell_type": "code",
   "execution_count": 21,
   "metadata": {},
   "outputs": [
    {
     "data": {
      "text/html": [
       "<iframe id=\"igraph\" scrolling=\"no\" style=\"border:none;\" seamless=\"seamless\" src=\"https://plot.ly/~flxw/19.embed\" height=\"525px\" width=\"100%\"></iframe>"
      ],
      "text/plain": [
       "<plotly.tools.PlotlyDisplay object>"
      ]
     },
     "execution_count": 21,
     "metadata": {},
     "output_type": "execute_result"
    }
   ],
   "source": [
    "import plotly.plotly as ply\n",
    "import plotly.graph_objs as go\n",
    "import pandas as pd\n",
    "import datetime as dt\n",
    "\n",
    "query = \"\"\"\n",
    "SELECT a.date, a.shacount/b.shacount::float AS shacount\n",
    "FROM (\n",
    "    SELECT DATE(timestamp) as date, COUNT(sha) AS shacount\n",
    "    FROM view_commit_data_search_for_cve\n",
    "    GROUP BY date\n",
    "    ORDER BY date\n",
    ") a\n",
    "INNER JOIN\n",
    "view_commit_data_commits_per_day b\n",
    "ON a.date = b.date\n",
    "\"\"\"\n",
    "\n",
    "df = pd.read_sql_query(query, connection)\n",
    "\n",
    "ply.iplot({\n",
    "    'data': [\n",
    "        go.Scatter(x=df.date, y=df.shacount,\n",
    "                  line=dict(color = ('rgb(40,171,226)')))\n",
    "    ],\n",
    "    'layout': {\n",
    "        'title': \"Adjusted reactions to CVE entries over time\",\n",
    "        'xaxis': { 'range': ['2012-01-01','2017-12-31'], 'title': 'Year'},\n",
    "        'yaxis': { 'range': [0, 0.003], 'title': 'Percentage of total commits on a given day', 'tickformat': '.2%'}\n",
    "    }}, filename=\"cve-reactions-adjusted-over-time\")"
   ]
  }
 ],
 "metadata": {
  "kernelspec": {
   "display_name": "Python 3",
   "language": "python",
   "name": "python3"
  },
  "language_info": {
   "codemirror_mode": {
    "name": "ipython",
    "version": 3
   },
   "file_extension": ".py",
   "mimetype": "text/x-python",
   "name": "python",
   "nbconvert_exporter": "python",
   "pygments_lexer": "ipython3",
   "version": "3.4.2"
  }
 },
 "nbformat": 4,
 "nbformat_minor": 2
}
