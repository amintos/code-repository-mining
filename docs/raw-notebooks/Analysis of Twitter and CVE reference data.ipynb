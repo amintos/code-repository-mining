{
 "cells": [
  {
   "cell_type": "markdown",
   "metadata": {},
   "source": [
    "# Analysis of Twitter and NIST CVE references"
   ]
  },
  {
   "cell_type": "raw",
   "metadata": {},
   "source": [
    "<script>\n",
    "  function code_toggle() {\n",
    "    if (code_shown){\n",
    "      $('div.input').hide('500');\n",
    "      $('#toggleButton').val('Show Code')\n",
    "    } else {\n",
    "      $('div.input').show('500');\n",
    "      $('#toggleButton').val('Hide Code')\n",
    "    }\n",
    "    code_shown = !code_shown\n",
    "  }\n",
    "\n",
    "  $( document ).ready(function(){\n",
    "    code_shown=false;\n",
    "    $('div.input').hide()\n",
    "  });\n",
    "</script>\n",
    "<form action=\"javascript:code_toggle()\"><input type=\"submit\" id=\"toggleButton\" value=\"Show Code\"></form>"
   ]
  },
  {
   "cell_type": "code",
   "execution_count": 1,
   "metadata": {},
   "outputs": [],
   "source": [
    "import requests\n",
    "import time\n",
    "import re\n",
    "import psycopg2\n",
    "import os\n",
    "\n",
    "import plotly.plotly as py\n",
    "import plotly.graph_objs as go\n",
    "\n",
    "import cufflinks as cf\n",
    "import pandas as pd\n",
    "\n",
    "from scipy import stats\n",
    "\n",
    "PLOTLY_UN    = os.environ.get(\"PLOTLY_UN\")\n",
    "PLOTLY_TOKEN = os.environ.get(\"PLOTLY_TOKEN\")\n",
    "#plotly.tools.set_credentials_file(username=PLOTLY_UN, api_key=PLOTLY_TOKEN)\n",
    "\n",
    "POSTGRES_DB_NAME = os.environ.get(\"API_TOKEN\")\n",
    "POSTGRES_DB_UN   = os.environ.get(\"POSTGRES_DB_UN\")\n",
    "POSTGRES_DB_PW   = os.environ.get(\"POSTGRES_DB_PW\")\n",
    "POSTGRES_DB_HOST = os.environ.get(\"POSTGRES_DB_HOST\")\n",
    "%load_ext sql\n",
    "%config echo=False\n",
    "%sql postgresql://$POSTGRES_DB_UN:$POSTGRES_DB_PW@$POSTGRES_DB_HOST/$POSTGRES_DB_NAME\n",
    "connection = psycopg2.connect(dbname=POSTGRES_DB_NAME, user=POSTGRES_DB_UN, password=POSTGRES_DB_PW);\n",
    "cursor     = connection.cursor()\n",
    "#connect_to_db = 'postgresql+psycopg2://' + \\\n",
    "                #creds['user_name'] + ':' + creds['password'] + '@' + \\\n",
    "                #creds['host_name'] + ':' + creds['port_num'] + '/' + creds['db_name'];\n",
    "\n",
    "MONGO_DB_NAME = os.environ.get(\"MONGO_DB_NAME\")\n",
    "MONGO_DB_UN   = os.environ.get(\"MONGO_DB_UN\")\n",
    "MONGO_DB_PW   = os.environ.get(\"MONGO_DB_PW\")\n",
    "MONGO_DB_HOST = os.environ.get(\"MONGO_DB_HOST\")\n",
    "\n",
    "#%sql SELECT relname, reltuples FROM pg_class WHERE relname IN (SELECT table_name FROM information_schema.tables WHERE table_schema = 'public') ORDER BY reltuples DESC"
   ]
  },
  {
   "cell_type": "markdown",
   "metadata": {},
   "source": [
    "## Finding proven and time-tested sources seems unlikely because of URL shorteners"
   ]
  },
  {
   "cell_type": "code",
   "execution_count": 2,
   "metadata": {},
   "outputs": [
    {
     "data": {
      "text/html": [
       "<iframe id=\"igraph\" scrolling=\"no\" style=\"border:none;\" seamless=\"seamless\" src=\"https://plot.ly/~flxw/27.embed\" height=\"1250px\" width=\"100%\"></iframe>"
      ],
      "text/plain": [
       "<plotly.tools.PlotlyDisplay object>"
      ]
     },
     "execution_count": 2,
     "metadata": {},
     "output_type": "execute_result"
    }
   ],
   "source": [
    "query = \"\"\"\n",
    "SELECT *\n",
    "FROM (\n",
    "    SELECT ted.domain,\n",
    "           extract(year from t.timestamp) AS t_year,\n",
    "           SUM(t.retweet_count) AS rt_cnt,\n",
    "           SUM(t.favorite_count) AS fav_cnt,\n",
    "           COUNT(ted.domain) AS cnt \n",
    "    FROM view_cve_referring_tweets_extracted_domains ted \n",
    "    JOIN cve_referring_tweets t \n",
    "    ON t.id = ted.tweet_id \n",
    "    WHERE character_length(ted.domain::varchar) > 6\n",
    "    AND ted.domain <> 'web.nvd.nist.gov'\n",
    "    AND ted.domain <> 'nvd.nist.gov'\n",
    "    AND ted.domain <> 'dlvr.it'\n",
    "    AND ted.domain <> 'twitter.com'\n",
    "    GROUP BY ted.domain, t_year \n",
    "    ORDER BY t_year DESC, cnt ASC \n",
    ") a \n",
    "WHERE cnt > 150\"\"\"\n",
    "\n",
    "df = pd.read_sql_query(query, connection)\n",
    "df = df.sort_values(by=['domain'], ascending = False)\n",
    "\n",
    "lyt = go.Layout(\n",
    "    title='Twitter reference sources by year and frequency',\n",
    "    autosize=False,\n",
    "    height=1250,\n",
    "    margin=go.Margin(\n",
    "      l=175\n",
    "    )\n",
    ")\n",
    "\n",
    "data = [\n",
    "    {\n",
    "        'x': df.t_year,\n",
    "        'y': df.domain,\n",
    "        'mode': 'markers',\n",
    "        'marker': {\n",
    "            'color': df.cnt,\n",
    "            'size': 10,\n",
    "            'showscale': True\n",
    "        }\n",
    "    }\n",
    "]\n",
    "\n",
    "fig = go.Figure(data = data, layout = lyt)\n",
    "py.iplot(fig, filename='twitter-source-cwe-popularity-bubble-chart')"
   ]
  },
  {
   "cell_type": "markdown",
   "metadata": {},
   "source": [
    "## Picking a good source for specific CWE information is hard due to URL shorteners, too"
   ]
  },
  {
   "cell_type": "code",
   "execution_count": 3,
   "metadata": {},
   "outputs": [
    {
     "data": {
      "text/html": [
       "<iframe id=\"igraph\" scrolling=\"no\" style=\"border:none;\" seamless=\"seamless\" src=\"https://plot.ly/~flxw/31.embed\" height=\"750px\" width=\"100%\"></iframe>"
      ],
      "text/plain": [
       "<plotly.tools.PlotlyDisplay object>"
      ]
     },
     "execution_count": 3,
     "metadata": {},
     "output_type": "execute_result"
    }
   ],
   "source": [
    "query = \"\"\"\n",
    "SELECT *\n",
    "FROM (\n",
    "    SELECT ted.domain,\n",
    "           cvecwe.cweid,\n",
    "           COUNT(ted.domain) AS cnt \n",
    "    FROM view_cve_referring_tweets_extracted_domains ted \n",
    "    JOIN view_cve_referring_tweets_extracted_cves tec ON ted.tweet_id = tec.tweet_id \n",
    "    JOIN cve_cwe_classification cvecwe ON tec.cve = cvecwe.cveid\n",
    "    \n",
    "    WHERE character_length(ted.domain::varchar) > 6\n",
    "    AND ted.domain <> 'web.nvd.nist.gov'\n",
    "    AND ted.domain <> 'nvd.nist.gov'\n",
    "    AND ted.domain <> 'dlvr.it'\n",
    "    AND ted.domain <> 'twitter.com'\n",
    "    \n",
    "    GROUP BY ted.domain, cvecwe.cweid\n",
    "    ORDER BY cnt ASC \n",
    ") a \n",
    "WHERE cnt > 150\"\"\"\n",
    "\n",
    "df = pd.read_sql_query(query, connection)\n",
    "df = df.sort_values(by=['domain'], ascending = False)\n",
    "\n",
    "lyt = go.Layout(\n",
    "    title='Twitter reference sources by CWE and frequency',\n",
    "    autosize=False,\n",
    "    height=750,\n",
    "    margin=go.Margin(\n",
    "      l=175\n",
    "    )\n",
    ")\n",
    "\n",
    "data = [\n",
    "    {\n",
    "        'x': df.cweid,\n",
    "        'y': df.domain,\n",
    "        'mode': 'markers',\n",
    "        'marker': {\n",
    "            'color': df.cnt,\n",
    "            'size': 10,\n",
    "            'showscale': True\n",
    "        }\n",
    "    }\n",
    "]\n",
    "\n",
    "fig = go.Figure(data = data, layout = lyt)\n",
    "py.iplot(fig, filename='twitter-source-cwe-bubble-chart')"
   ]
  },
  {
   "cell_type": "markdown",
   "metadata": {},
   "source": [
    "## Official NIST references are better suited to pick good CWE specific sources"
   ]
  },
  {
   "cell_type": "code",
   "execution_count": 4,
   "metadata": {},
   "outputs": [
    {
     "data": {
      "text/html": [
       "<iframe id=\"igraph\" scrolling=\"no\" style=\"border:none;\" seamless=\"seamless\" src=\"https://plot.ly/~flxw/23.embed\" height=\"600px\" width=\"100%\"></iframe>"
      ],
      "text/plain": [
       "<plotly.tools.PlotlyDisplay object>"
      ]
     },
     "execution_count": 4,
     "metadata": {},
     "output_type": "execute_result"
    }
   ],
   "source": [
    "query = \"\"\"\n",
    "SELECT *, nrefs/nrefstotal::float AS refshare\n",
    "FROM (\n",
    "    SELECT DISTINCT cr.domain,\n",
    "           cvecwe.cweid,\n",
    "           COUNT(cr.domain) OVER (PARTITION BY cvecwe.cweid) AS nrefstotal,\n",
    "           COUNT(cr.domain) OVER (PARTITION BY cr.domain, cvecwe.cweid) AS nrefs\n",
    "    FROM view_cvereference_extracted_domains cr \n",
    "    JOIN cve_cwe_classification cvecwe \n",
    "    ON cr.cveid = cvecwe.cveid \n",
    "    ORDER BY nrefs DESC\n",
    ") a\n",
    "WHERE nrefs/nrefstotal::float > 0.25\"\"\"\n",
    "\n",
    "df = pd.read_sql_query(query, connection)\n",
    "df = df.sort_values(by=['domain'], ascending = False)\n",
    "\n",
    "lyt = go.Layout(\n",
    "    title='NIST reference sources by CWE and share of total CWE references',\n",
    "    autosize=False,\n",
    "    height=600,\n",
    "    margin=go.Margin(\n",
    "      l=175\n",
    "    )\n",
    ")\n",
    "\n",
    "data = [\n",
    "    {\n",
    "        'x': df.cweid,\n",
    "        'y': df.domain,\n",
    "        'mode': 'markers',\n",
    "        'marker': {\n",
    "            'color': df.nrefs,\n",
    "            'size': 10,\n",
    "            'showscale': True\n",
    "        }\n",
    "    }\n",
    "]\n",
    "\n",
    "fig = go.Figure(data = data, layout = lyt)\n",
    "py.iplot(fig, filename='nist-reference-cwe-popularity-bubble-chart')"
   ]
  },
  {
   "cell_type": "markdown",
   "metadata": {},
   "source": [
    "## A small number of Github users is also active on Twitter under the same handle"
   ]
  },
  {
   "cell_type": "code",
   "execution_count": 5,
   "metadata": {},
   "outputs": [
    {
     "data": {
      "text/html": [
       "<iframe id=\"igraph\" scrolling=\"no\" style=\"border:none;\" seamless=\"seamless\" src=\"https://plot.ly/~flxw/33.embed\" height=\"1000px\" width=\"100%\"></iframe>"
      ],
      "text/plain": [
       "<plotly.tools.PlotlyDisplay object>"
      ]
     },
     "execution_count": 5,
     "metadata": {},
     "output_type": "execute_result"
    }
   ],
   "source": [
    "query = \"\"\"\n",
    "SELECT\n",
    "    DISTINCT t.username,\n",
    "    extract(year from t.timestamp) AS t_year,\n",
    "    COUNT(t.id) OVER (PARTITION BY t.username, extract(year from t.timestamp)) AS t_user_count,\n",
    "    COUNT(t.id) OVER (PARTITION BY extract(year from t.timestamp)) AS t_year_count\n",
    "FROM cve_referring_tweets t\n",
    "JOIN view_commit_data_search_for_cve vc ON vc.name = t.username\n",
    "ORDER BY t.username, t_year\"\"\"\n",
    "\n",
    "df = pd.read_sql_query(query, connection)\n",
    "\n",
    "lyt = go.Layout(\n",
    "    title='Same Github & Twitter handles over time and share-of-year-volume',\n",
    "    autosize=False,\n",
    "    height=1000,\n",
    "    margin=go.Margin(\n",
    "      l=175\n",
    "    )\n",
    ")\n",
    "\n",
    "data = [\n",
    "    {\n",
    "        'x': df.t_year,\n",
    "        'y': df.username,\n",
    "        'mode': 'markers',\n",
    "        'marker': {\n",
    "            'color': df.t_user_count / df.t_year_count,\n",
    "            'size': 10,\n",
    "            'showscale': True\n",
    "        }\n",
    "    }\n",
    "]\n",
    "\n",
    "fig = go.Figure(data = data, layout = lyt)\n",
    "py.iplot(fig, filename='same-userhandles-time-volume-bubble-chart')"
   ]
  },
  {
   "cell_type": "markdown",
   "metadata": {},
   "source": [
    "## And apparently, some are knowledgeable on certain types of bugs"
   ]
  },
  {
   "cell_type": "code",
   "execution_count": 6,
   "metadata": {},
   "outputs": [
    {
     "data": {
      "text/html": [
       "<iframe id=\"igraph\" scrolling=\"no\" style=\"border:none;\" seamless=\"seamless\" src=\"https://plot.ly/~flxw/37.embed\" height=\"1700px\" width=\"100%\"></iframe>"
      ],
      "text/plain": [
       "<plotly.tools.PlotlyDisplay object>"
      ]
     },
     "execution_count": 6,
     "metadata": {},
     "output_type": "execute_result"
    }
   ],
   "source": [
    "query = \"\"\"\n",
    "SELECT\n",
    "    DISTINCT t.username,\n",
    "    ccc.cweid,\n",
    "    COUNT(t.id) OVER (PARTITION BY t.username, ccc.cweid) AS t_cwe_count,\n",
    "    COUNT(t.id) OVER (PARTITION BY ccc.cweid) AS t_count\n",
    "FROM cve_referring_tweets t\n",
    "JOIN view_commit_data_search_for_cve vc ON vc.name = t.username\n",
    "JOIN view_cve_referring_tweets_extracted_cves ec ON t.id = ec.tweet_id\n",
    "JOIN cve_cwe_classification ccc ON ec.cve = ccc.cveid\"\"\"\n",
    "\n",
    "df = pd.read_sql_query(query, connection)\n",
    "\n",
    "lyt = go.Layout(\n",
    "    title='Same Github & Twitter handles over time and share-of-cwe-volume',\n",
    "    autosize=False,\n",
    "    height=1700,\n",
    "    margin=go.Margin(\n",
    "      l=175\n",
    "    )\n",
    ")\n",
    "\n",
    "data = [\n",
    "    {\n",
    "        'x': df.cweid,\n",
    "        'y': df.username,\n",
    "        'mode': 'markers',\n",
    "        'marker': {\n",
    "            'color': df.t_cwe_count / df.t_count,\n",
    "            'size': 10,\n",
    "            'showscale': True\n",
    "        }\n",
    "    }\n",
    "]\n",
    "\n",
    "fig = go.Figure(data = data, layout = lyt)\n",
    "py.iplot(fig, filename='same-userhandles-cwe-volume-bubble-chart')"
   ]
  },
  {
   "cell_type": "markdown",
   "metadata": {},
   "source": [
    "## Which products are affected a lot by certain CPE? "
   ]
  },
  {
   "cell_type": "code",
   "execution_count": 7,
   "metadata": {
    "scrolled": false
   },
   "outputs": [
    {
     "data": {
      "text/html": [
       "<iframe id=\"igraph\" scrolling=\"no\" style=\"border:none;\" seamless=\"seamless\" src=\"https://plot.ly/~flxw/39.embed\" height=\"750px\" width=\"100%\"></iframe>"
      ],
      "text/plain": [
       "<plotly.tools.PlotlyDisplay object>"
      ]
     },
     "execution_count": 7,
     "metadata": {},
     "output_type": "execute_result"
    }
   ],
   "source": [
    "query = \"\"\"\n",
    "SELECT *\n",
    "FROM (\n",
    "    SELECT DISTINCT\n",
    "        cpv.name,\n",
    "        ccc.cweid,\n",
    "        COUNT(cpv.cveid) OVER (PARTITION BY cpv.name) AS total_cvecount,\n",
    "        COUNT(cpv.cveid) OVER (PARTITION BY cpv.name, ccc.cweid) AS cwe_cvecount\n",
    "    FROM cve_per_product_version cpv\n",
    "    JOIN cve_cwe_classification ccc ON ccc.cveid = cpv.cveid\n",
    ") a\n",
    "ORDER BY total_cvecount DESC, cwe_cvecount DESC\n",
    "LIMIT 200\"\"\"\n",
    "\n",
    "df = pd.read_sql_query(query, connection)\n",
    "df = df.reset_index().groupby(['name', 'cweid'])['cwe_cvecount'].aggregate('first').unstack()\n",
    "\n",
    "data = [go.Bar(x=df.index, y=df[k], name='CWE {0}'.format(k)) for k in df.keys()]\n",
    "\n",
    "layout = go.Layout(\n",
    "    barmode='stack',\n",
    "    title='CWE distribution per product',\n",
    "    height=750\n",
    ")\n",
    "\n",
    "fig = go.Figure(data=data, layout=layout)\n",
    "py.iplot(fig, filename='cwe-distribution-per-product')"
   ]
  }
 ],
 "metadata": {
  "kernelspec": {
   "display_name": "Python 3",
   "language": "python",
   "name": "python3"
  },
  "language_info": {
   "codemirror_mode": {
    "name": "ipython",
    "version": 3
   },
   "file_extension": ".py",
   "mimetype": "text/x-python",
   "name": "python",
   "nbconvert_exporter": "python",
   "pygments_lexer": "ipython3",
   "version": "3.4.2"
  }
 },
 "nbformat": 4,
 "nbformat_minor": 2
}
