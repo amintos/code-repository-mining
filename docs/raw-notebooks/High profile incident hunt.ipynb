{
 "cells": [
  {
   "cell_type": "code",
   "execution_count": 5,
   "metadata": {
    "scrolled": false
   },
   "outputs": [],
   "source": [
    "import requests\n",
    "import time\n",
    "import re\n",
    "import psycopg2\n",
    "import os\n",
    "\n",
    "import plotly.plotly as py\n",
    "import plotly.graph_objs as go\n",
    "\n",
    "import cufflinks as cf\n",
    "import pandas as pd\n",
    "\n",
    "from scipy import stats\n",
    "\n",
    "PLOTLY_UN    = os.environ.get(\"PLOTLY_UN\")\n",
    "PLOTLY_TOKEN = os.environ.get(\"PLOTLY_TOKEN\")\n",
    "\n",
    "POSTGRES_DB_NAME = os.environ.get(\"POSTGRES_DB_NAME\")\n",
    "POSTGRES_DB_UN   = os.environ.get(\"POSTGRES_DB_UN\")\n",
    "POSTGRES_DB_PW   = os.environ.get(\"POSTGRES_DB_PW\")\n",
    "POSTGRES_DB_HOST = os.environ.get(\"POSTGRES_DB_HOST\")\n",
    "connect_to_db = 'postgresql+psycopg2://' + \\\n",
    "                POSTGRES_DB_UN + ':' + POSTGRES_DB_PW + '@' + \\\n",
    "                POSTGRES_DB_HOST + '/' + POSTGRES_DB_NAME;\n",
    "\n",
    "%load_ext sql\n",
    "%config echo=False\n",
    "%sql $connect_to_db\n",
    "connection = psycopg2.connect(dbname=POSTGRES_DB_NAME, user=POSTGRES_DB_UN, password=POSTGRES_DB_PW);\n",
    "cursor     = connection.cursor()\n"
   ]
  },
  {
   "cell_type": "code",
   "execution_count": 6,
   "metadata": {
    "scrolled": true
   },
   "outputs": [
    {
     "name": "stdout",
     "output_type": "stream",
     "text": [
      "2 rows affected.\n"
     ]
    },
    {
     "data": {
      "text/html": [
       "<table>\n",
       "    <tr>\n",
       "        <th>sha</th>\n",
       "        <th>login</th>\n",
       "        <th>timestamp</th>\n",
       "        <th>email</th>\n",
       "        <th>name</th>\n",
       "        <th>message</th>\n",
       "        <th>additions</th>\n",
       "        <th>deletions</th>\n",
       "    </tr>\n",
       "    <tr>\n",
       "        <td>a72e7f82540f7b45fb177759032336e5bcaf0dee</td>\n",
       "        <td>bassosimone</td>\n",
       "        <td>2014-02-22 22:44:09+01:00</td>\n",
       "        <td>bassosimone@gmail.com</td>\n",
       "        <td>Simone Basso</td>\n",
       "        <td>Makefile.in: add -Wunreachable-code<br><br>I was reading about the CVE-2014-1266 SSL/TLS Apple bug on<br>ImperialViolet and learnt that clang has a separate flag for<br>unreachable code, -Wunreachable-code, that is not included<br>in the -Wall warnings [1].<br><br>So, let&#x27;s add -Wunreachable-code to Makefile.in.<br><br>[1] https://www.imperialviolet.org/2014/02/22/applebug.html</td>\n",
       "        <td>2</td>\n",
       "        <td>1</td>\n",
       "    </tr>\n",
       "    <tr>\n",
       "        <td>ab9b061b32c4897a36eddb17ca309dd4f6d8e68f</td>\n",
       "        <td></td>\n",
       "        <td>2016-09-12 22:13:54+02:00</td>\n",
       "        <td>maya</td>\n",
       "        <td>maya</td>\n",
       "        <td>add packages gcc6, gcc6-libs (GCC 6.2.0), based on wip/gcc6snapshot<br>XXX add logic to mk/compiler/gcc.mk<br><br>Changes from GCC5 series:<br><br>Caveats<br><br>    The default mode for C++ is now -std=gnu++14 instead of -std=gnu++98.<br><br>    Support for a number of older systems and recently unmaintained or untested target ports of GCC has been declared obsolete in GCC 6. Unless there is activity to revive them, the next release of GCC will have their sources permanently removed.<br><br>    The following ports for individual systems on particular architectures have been obsoleted:<br>        SH5 / SH64 (sh64-*-*) as announced here.<br>    The AVR port requires binutils version 2.26.1 or later for the fix for PR71151 to work.<br><br>General Optimizer Improvements<br><br>    UndefinedBehaviorSanitizer gained a new sanitization option, -fsanitize=bounds-strict, which enables strict checking of array bounds. In particular, it enables -fsanitize=bounds as well as instrumentation of flexible array member-like arrays.<br>    Type-based alias analysis now disambiguates accesses to different pointers. This improves precision of the alias oracle by about 20-30% on higher-level C++ programs. Programs doing invalid type punning of pointer types may now need -fno-strict-aliasing to work correctly.<br>    Alias analysis now correctly supports weakref and alias attributes. This makes it possible to access both a variable and its alias in one translation unit which is common with link-time optimization.<br>    Value range propagation now assumes that the this pointer of C++ member functions is non-null. This eliminates common null pointer checks but also breaks some non-conforming code-bases (such as Qt-5, Chromium, KDevelop). As a temporary work-around -fno-delete-null-pointer-checks can be used. Wrong code can be identified by using -fsanitize=undefined.<br>    Link-time optimization improvements:<br>        warning and error attributes are now correctly preserved by declaration linking and thus -D_FORTIFY_SOURCE=2 is now supported with -flto.<br><br>        Type merging was fixed to handle C and Fortran interoperability rules as defined by the Fortran 2008 language standard.<br><br>        As an exception, CHARACTER(KIND=C_CHAR) is not inter-operable with char in all cases because it is an array while char is scalar. INTEGER(KIND=C_SIGNED_CHAR) should be used instead. In general, this inter-operability cannot be implemented, for example, on targets where function passing conventions of arrays differs from scalars.<br>        More type information is now preserved at link time reducing the loss of accuracy of the type based alias analysis compared to builds without link-time optimization.<br>        Invalid type punning on global variables and declarations is now reported with -Wodr-type-mismatch.<br>        The size of LTO object files was reduced by about 11% (measured by compiling Firefox 46.0).<br>        Link-time parallelization (enabled using -flto=n) was significantly improved by decreasing the size of streamed data when partitioning programs. The size of streamed IL while compiling Firefox 46.0 was reduced by 66%.<br><br>        The linker plugin was extended to pass information about type of binary produced to GCC back end (that can be also manually controlled by -flinker-output). This makes it possible to properly configure the code generator and support incremental linking. Incremental linking of LTO objects by gcc -r is now supported on plugin-enabled setups.<br><br>        There are two ways to perform incremental linking:<br>            Linking by ld -r will result in an object file with all sections from individual object files mechanically merged. This delays the actual link time optimization to final linking step and thus permits whole program optimization. Linking final binary with such object files is however slower.<br>            Linking by gcc -r will lead to link time optimization and produce final binary into the object file. Linking such object file is fast but avoids any benefits from whole program optimization.<br>        GCC 7 will support incremental link-time optimization with gcc -r.<br>    Inter-procedural optimization improvements:<br>        Basic jump threading is now performed before profile construction and inline analysis, resulting in more realistic size and time estimates that drive the heuristics of the of inliner and function cloning passes.<br>        Function cloning now more aggressively eliminates unused function parameters.<br><br>New Languages and Language specific improvements<br>Compared to GCC 5, the GCC 6 release series includes a much improved implementation of the OpenACC 2.0a specification. Highlights are:<br><br>    In addition to single-threaded host-fallback execution, offloading is supported for nvptx (Nvidia GPUs) on x86_64 and PowerPC 64-bit little-endian GNU/Linux host systems. For nvptx offloading, with the OpenACC parallel construct, the execution model allows for an arbitrary number of gangs, up to 32 workers, and 32 vectors.<br>    Initial support for parallelized execution of OpenACC kernels constructs:<br>        Parallelization of a kernels region is switched on by -fopenacc combined with -O2 or higher.<br>        Code is offloaded onto multiple gangs, but executes with just one worker, and a vector length of 1.<br>        Directives inside a kernels region are not supported.<br>        Loops with reductions can be parallelized.<br>        Only kernels regions with one loop nest are parallelized.<br>        Only the outer-most loop of a loop nest can be parallelized.<br>        Loop nests containing sibling loops are not parallelized.<br>    Typically, using the OpenACC parallel construct gives much better performance, compared to the initial support of the OpenACC kernels construct.<br>    The device_type clause is not supported. The bind and nohost clauses are not supported. The host_data directive is not supported in Fortran.<br>    Nested parallelism (cf. CUDA dynamic parallelism) is not supported.<br>    Usage of OpenACC constructs inside multithreaded contexts (such as created by OpenMP, or pthread programming) is not supported.<br>    If a call to the acc_on_device function has a compile-time constant argument, the function call evaluates to a compile-time constant value only for C and C++ but not for Fortran.<br><br>See the OpenACC and Offloading wiki pages for further information.<br>C family<br><br>    Version 4.5 of the OpenMP specification is now supported in the C and C++ compilers.<br>    The C and C++ compilers now support attributes on enumerators. For instance, it is now possible to mark enumerators as deprecated:<br><br>        enum {<br>          newval,<br>          oldval __attribute__ ((deprecated (&quot;too old&quot;)))<br>        };<br><br>    Source locations for the C and C++ compilers are now tracked as ranges, rather than just points, making it easier to identify the subexpression of interest within a complicated expression. For example:<br><br>        test.cc: In function &#x27;int test(int, int, foo, int, int)&#x27;:<br>        test.cc:5:16: error: no match for &#x27;operator*&#x27; (operand types are &#x27;int&#x27; and &#x27;foo&#x27;)<br>           return p + q * r * s + t;<br>                      ~~^~~<br><br>    In addition, there is now initial support for precise diagnostic locations within strings:<br><br>        format-strings.c:3:14: warning: field width specifier &#x27;*&#x27; expects a matching &#x27;int&#x27; argument [-Wformat=]<br>           printf(&quot;%*d&quot;);<br>                    ^<br><br>    Diagnostics can now contain &quot;fix-it hints&quot;, which are displayed in context underneath the relevant source code. For example:<br><br>        fixits.c: In function &#x27;bad_deref&#x27;:<br>        fixits.c:11:13: error: &#x27;ptr&#x27; is a pointer; did you mean to use &#x27;-&gt;&#x27;?<br>           return ptr.x;<br>                     ^<br>                     -&gt;<br><br>    The C and C++ compilers now offer suggestions for misspelled field names:<br><br>        spellcheck-fields.cc:52:13: error: &#x27;struct s&#x27; has no member named &#x27;colour&#x27;; did you mean &#x27;color&#x27;?<br>           return ptr-&gt;colour;<br>                       ^~~~~~<br><br>    New command-line options have been added for the C and C++ compilers:<br>        -Wshift-negative-value warns about left shifting a negative value.<br>        -Wshift-overflow warns about left shift overflows. This warning is enabled by default. -Wshift-overflow=2 also warns about left-shifting 1 into the sign bit.<br>        -Wtautological-compare warns if a self-comparison always evaluates to true or false. This warning is enabled by -Wall.<br>        -Wnull-dereference warns if the compiler detects paths that trigger erroneous or undefined behavior due to dereferencing a null pointer. This option is only active when -fdelete-null-pointer-checks is active, which is enabled by optimizations in most targets. The precision of the warnings depends on the optimization options used.<br>        -Wduplicated-cond warns about duplicated conditions in an if-else-if chain.<br>        -Wmisleading-indentation warns about places where the indentation of the code gives a misleading idea of the block structure of the code to a human reader. For example, given CVE-2014-1266:<br><br>            sslKeyExchange.c: In function &#x27;SSLVerifySignedServerKeyExchange&#x27;:<br>            sslKeyExchange.c:629:3: warning: this &#x27;if&#x27; clause does not guard... [-Wmisleading-indentation]<br>                if ((err = SSLHashSHA1.update(&amp;hashCtx, &amp;signedParams)) != 0)<br>                ^~<br>            sslKeyExchange.c:631:5: note: ...this statement, but the latter is misleadingly indented as if it is guarded by the &#x27;if&#x27;<br>                    goto fail;<br>                    ^~~~<br><br>        This warning is enabled by -Wall.<br>    The C and C++ compilers now emit saner error messages if merge-conflict markers are present in a source file.<br><br>        test.c:3:1: error: version control conflict marker in file<br>         &lt;&lt;&lt;&lt;&lt;&lt;&lt; HEAD<br>         ^~~~~~~<br><br>C<br><br>    It is possible to disable warnings when an initialized field of a structure or a union with side effects is being overridden when using designated initializers via a new warning option -Woverride-init-side-effects.<br>    A new type attribute scalar_storage_order applying to structures and unions has been introduced. It specifies the storage order (aka endianness) in memory of scalar fields in structures or unions.<br><br>C++<br><br>    The default mode has been changed to -std=gnu++14.<br>    C++ Concepts are now supported when compiling with -fconcepts.<br>    -flifetime-dse is more aggressive in dead-store elimination in situations where a memory store to a location precedes a constructor to that memory location.<br>    G++ now supports C++17 fold expressions, u8 character literals, extended static_assert, and nested namespace definitions.<br>    G++ now allows constant evaluation for all non-type template arguments.<br>    G++ now supports C++ Transactional Memory when compiling with -fgnu-tm.<br><br>Runtime Library (libstdc++)<br><br>    Extensions to the C++ Library to support mathematical special functions (ISO/IEC 29124:2010), thanks to Edward Smith-Rowland.<br>    Experimental support for C++17, including the following new features:<br>        std::uncaught_exceptions function (this is also available for -std=gnu++NN modes);<br>        new member functions try_emplace and insert_or_assign for unique_key maps;<br>        non-member functions std::size, std::empty, and std::data for accessing containers and arrays;<br>        std::invoke;<br>        std::shared_mutex;<br>        std::void_t and std::bool_constant metaprogramming utilities.<br>    Thanks to Ville Voutilainen for contributing many of the C++17 features.<br>    An experimental implementation of the File System TS.<br>    Experimental support for most features of the second version of the Library Fundamentals TS. This includes polymorphic memory resources and array support in shared_ptr, thanks to Fan You.<br>    Some assertions checked by Debug Mode can now also be enabled by _GLIBCXX_ASSERTIONS. The subset of checks enabled by the new macro have less run-time overhead than the full _GLIBCXX_DEBUG checks and don&#x27;t affect the library ABI, so can be enabled per-translation unit.<br>    Timed mutex types are supported on more targets, including Darwin.<br>    Improved std::locale support for DragonFly and FreeBSD, thanks to John Marino and Andreas Tobler.<br><br>Fortran<br><br>    Fortran 2008 SUBMODULE support.<br>    Fortran 2015 EVENT_TYPE, EVENT_POST, EVENT_WAIT, and EVENT_QUERY support.<br>    Improved support for Fortran 2003 deferred-length character variables.<br>    Improved support for OpenMP and OpenACC.<br>    The MATMUL intrinsic is now inlined for straightforward cases if front-end optimization is active. The maximum size for inlining can be set to n with the -finline-matmul-limit=n option and turned off with -finline-matmul-limit=0.<br>    The -Wconversion-extra option will warn about REAL constants which have excess precision for their kind.<br>    The -Winteger-division option has been added, which warns about divisions of integer constants which are truncated. This option is included in -Wall by default.<br><br>libgccjit<br><br>    The driver code is now run in-process within libgccjit, providing a small speed-up of the compilation process.<br>    The API has gained entrypoints for<br>        timing how long was spent in different parts of code,<br>        creating switch statements,<br>        allowing unreachable basic blocks in a function, and<br>        adding arbitrary command-line options to a compilation.<br><br>New Targets and Target Specific Improvements<br>AArch64<br><br>    A number of AArch64-specific options have been added. The most important ones are summarised in this section but for usage instructions please refer to the documentation.<br>    The new command-line options -march=native, -mcpu=native and -mtune=native are now available on native AArch64 GNU/Linux systems. Specifying these options causes GCC to auto-detect the host CPU and choose the optimal setting for that system.<br>    -fpic is now supported when generating code for the small code model (-mcmodel=small). The size of the global offset table (GOT) is limited to 28KiB under the LP64 SysV ABI, and 15KiB under the ILP32 SysV ABI.<br>    The AArch64 port now supports target attributes and pragmas. Please refer to the documentation for details of available attributes and pragmas as well as usage instructions.<br>    Link-time optimization across translation units with different target-specific options is now supported.<br>    The option -mtls-size= is now supported. It can be used to specify the bit size of TLS offsets, allowing GCC to generate better TLS instruction sequences.<br>    The option -fno-plt is now fully functional.<br>    The ARMv8.1-A architecture and the Large System Extensions are now supported. They can be used by specifying the -march=armv8.1-a option. Additionally, the +lse option extension can be used in a similar fashion to other option extensions. The Large System Extensions introduce new instructions that are used in the implementation of atomic operations.<br>    The ACLE half-precision floating-point type __fp16 is now supported in the C and C++ languages.<br>    The ARM Cortex-A35 processor is now supported via the -mcpu=cortex-a35 and -mtune=cortex-a35 options as well as the equivalent target attributes and pragmas.<br>    The Qualcomm QDF24xx processor is now supported via the -mcpu=qdf24xx and -mtune=qdf24xx options as well as the equivalent target attributes and pragmas.<br>    Code generation for the ARM Cortex-A57 processor is improved. Among general code generation improvements, a better algorithm is added for allocating registers to floating-point multiply-accumulate instructions offering increased performance when compiling with -mcpu=cortex-a57 or -mtune=cortex-a57.<br>    Code generation for the ARM Cortex-A53 processor is improved. A more accurate instruction scheduling model for the processor is now used, and a number of compiler tuning parameters have been set to offer increased performance when compiling with -mcpu=cortex-a53 or -mtune=cortex-a53.<br>    Code generation for the Samsung Exynos M1 processor is improved. A more accurate instruction scheduling model for the processor is now used, and a number of compiler tuning parameters have been set to offer increased performance when compiling with -mcpu=exynos-m1 or -mtune=exynos-m1.<br>    Improvements in the generation of conditional branches and literal pools were made to allow the compiler to compile functions of a large size. Constant pools are now placed into separate rodata sections. The new option -mpc-relative-literal-loads is introduced to generate per-function literal pools, limiting the maximum size of functions to 1MiB.<br>    Several correctness issues with generation of Advanced SIMD instructions for big-endian targets have been fixed resulting in improved code generation for ACLE intrinsics with -mbig-endian.<br><br>ARM<br><br>    Support for revisions of the ARM architecture prior to ARMv4t has been deprecated and will be removed in a future GCC release. The -mcpu and -mtune values that are deprecated are: arm2, arm250, arm3, arm6, arm60, arm600, arm610, arm620, arm7, arm7d, arm7di, arm70, arm700, arm700i, arm710, arm720, arm710c, arm7100, arm7500, arm7500fe, arm7m, arm7dm, arm7dmi, arm8, arm810, strongarm, strongarm110, strongarm1100, strongarm1110, fa526, fa626. The value arm7tdmi is still supported. The values of -march that are deprecated are: armv2,armv2a,armv3,armv3m,armv4.<br>    The ARM port now supports target attributes and pragmas. Please refer to the documentation for details of available attributes and pragmas as well as usage instructions.<br>    Support has been added for the following processors (GCC identifiers in parentheses): ARM Cortex-A32 (cortex-a32), ARM Cortex-A35 (cortex-a35). The GCC identifiers can be used as arguments to the -mcpu or -mtune options, for example: -mcpu=cortex-a32 or -mtune=cortex-a35.<br><br>Heterogeneous Systems Architecture<br><br>    GCC can now generate HSAIL (Heterogeneous System Architecture Intermediate Language) for simple OpenMP device constructs if configured with --enable-offload-targets=hsa. A new libgomp plugin then runs the HSA GPU kernels implementing these constructs on HSA capable GPUs via a standard HSA run time.<br><br>    If the HSA compilation back end determines it cannot output HSAIL for a particular input, it gives a warning by default. These warnings can be suppressed with -Wno-hsa. To give a few examples, the HSA back end does not implement compilation of code using function pointers, automatic allocation of variable sized arrays, functions with variadic arguments as well as a number of other less common programming constructs.<br><br>    When compilation for HSA is enabled, the compiler attempts to compile composite OpenMP constructs<br><br>        #pragma omp target teams distribute parallel for<br><br>    into parallel HSA GPU kernels.<br><br>IA-32/x86-64<br><br>    GCC now supports the Intel CPU named Skylake with AVX-512 extensions through -march=skylake-avx512. The switch enables the following ISA extensions: AVX-512F, AVX512VL, AVX-512CD, AVX-512BW, AVX-512DQ.<br>    Support for new AMD instructions monitorx and mwaitx has been added. This includes new intrinsic and built-in support. It is enabled through option -mmwaitx. The instructions monitorx and mwaitx implement the same functionality as the old monitor and mwait instructions. In addition mwaitx adds a configurable timer. The timer value is received as third argument and stored in register %ebx.<br>    x86-64 targets now allow stack realignment from a word-aligned stack pointer using the command-line option -mstackrealign or __attribute__ ((force_align_arg_pointer)). This allows functions compiled with a vector-aligned stack to be invoked from objects that keep only word-alignment.<br>    Support for address spaces __seg_fs, __seg_gs, and __seg_tls. These can be used to access data via the %fs and %gs segments without having to resort to inline assembly. Please refer to the documentation for usage instructions.<br>    Support for AMD Zen (family 17h) processors is now available through the -march=znver1 and -mtune=znver1 options.<br><br>MeP<br><br>    Support for the MeP (mep-elf) architecture has been deprecated and will be removed in a future GCC release.<br><br>MSP430<br><br>    The MSP430 compiler now has the ability to automatically distribute code and data between low memory (addresses below 64K) and high memory. This only applies to parts that actually have both memory regions and only if the linker script for the part has been specifically set up to support this feature.<br><br>    A new attribute of either can be applied to both functions and data, and this tells the compiler to place the object into low memory if there is room and into high memory otherwise. Two other new attributes - lower and upper - can be used to explicitly state that an object should be placed in the specified memory region. If there is not enough left in that region the compilation will fail.<br><br>    Two new command-line options - -mcode-region=[lower|upper|either] and -mdata-region=[lower|upper|either] - can be used to tell the compiler what to do with objects that do not have one of these new attributes.<br><br>PowerPC / PowerPC64 / RS6000<br><br>    PowerPC64 now supports IEEE 128-bit floating-point using the __float128 data type. In GCC 6, this is not enabled by default, but you can enable it with -mfloat128. The IEEE 128-bit floating-point support requires the use of the VSX instruction set. IEEE 128-bit floating-point values are passed and returned as a single vector value. The software emulator for IEEE 128-bit floating-point support is only built on PowerPC GNU/Linux systems where the default CPU is at least power7. On future ISA 3.0 systems (POWER 9 and later), you will be able to use the -mfloat128-hardware option to use the ISA 3.0 instructions that support IEEE 128-bit floating-point. An additional type (__ibm128) has been added to refer to the IBM extended double type that normally implements long double. This will allow for a future transition to implementing long double with IEEE 128-bit floating-point.<br>    Basic support has been added for POWER9 hardware that will use the recently published OpenPOWER ISA 3.0 instructions. The following new switches are available:<br>        -mcpu=power9: Implement all of the ISA 3.0 instructions supported by the compiler.<br>        -mtune=power9: In the future, apply tuning for POWER9 systems. Currently, POWER8 tunings are used.<br>        -mmodulo: Generate code using the ISA 3.0 integer instructions (modulus, count trailing zeros, array index support, integer multiply/add).<br>        -mpower9-fusion: Generate code to suitably fuse instruction sequences for a POWER9 system.<br>        -mpower9-dform: Generate code to use the new D-form (register+offset) memory instructions for the vector registers.<br>        -mpower9-vector: Generate code using the new ISA 3.0 vector (VSX or Altivec) instructions.<br>        -mpower9-minmax: Reserved for future development.<br>        -mtoc-fusion: Keep TOC entries together to provide more fusion opportunities.<br><br>    New constraints have been added to support IEEE 128-bit floating-point and ISA 3.0 instructions:<br><br>        wb: Altivec register if -mpower9-dform is enabled.<br><br>        we: VSX register if -mpower9-vector is enabled for 64-bit code generation.<br><br>        wo: VSX register if -mpower9-vector is enabled.<br><br>        wp: Reserved for future use if long double is implemented with IEEE 128-bit floating-point instead of IBM extended double.<br><br>        wq: VSX register if -mfloat128 is enabled.<br><br>        wF: Memory operand suitable for POWER9 fusion load/store.<br><br>        wG: Memory operand suitable for TOC fusion memory references.<br><br>        wL: Integer constant identifying the element number mfvsrld accesses within a vector.<br>    Support has been added for __builtin_cpu_is() and __builtin_cpu_supports(), allowing for very fast access to AT_PLATFORM, AT_HWCAP, and AT_HWCAP2 values. This requires use of glibc 2.23 or later.<br>    All hardware transactional memory builtins now correctly behave as memory barriers. Programmers can use #ifdef __TM_FENCE__ to determine whether their &quot;old&quot; compiler treats the builtins as barriers.<br>    Split-stack support has been added for gccgo on PowerPC64 for both big- and little-endian (but not for 32-bit). The gold linker from at least binutils 2.25.1 must be available in the PATH when configuring and building gccgo to enable split stack. (The requirement for binutils 2.25.1 applies to PowerPC64 only.) The split-stack feature allows a small initial stack size to be allocated for each goroutine, which increases as needed.<br>    GCC on PowerPC now supports the standard lround function.<br>    A new configuration option ---with-advance-toolchain=at was added for PowerPC 64-bit GNU/Linux systems to use the header files, library files, and the dynamic linker from a specific Advance Toolchain release instead of the default versions that are provided by the GNU/Linux distribution. In general, this option is intended for the developers of GCC, and it is not intended for general use.<br><br>    The &quot;q&quot;, &quot;S&quot;, &quot;T&quot;, and &quot;t&quot; asm-constraints have been removed.<br><br>    The &quot;b&quot;, &quot;B&quot;, &quot;m&quot;, &quot;M&quot;, and &quot;W&quot; format modifiers have been removed.<br><br>S/390, System z, IBM z Systems<br><br>    Support for the IBM z13 processor has been added. When using the -march=z13 option, the compiler will generate code making use of the new instructions and registers introduced with the vector extension facility. The -mtune=z13 option enables z13 specific instruction scheduling without making use of new instructions.<br>    Compiling code with -march=z13 reduces the default alignment of vector types bigger than 8 bytes to 8. This is an ABI change and care must be taken when linking modules compiled with different arch levels which interchange variables containing vector type values. For newly compiled code the GNU linker will emit a warning.<br>    The -mzvector option enables a C/C++ language extension. This extension provides a new keyword vector which can be used to define vector type variables. (Note: This is not available when enforcing strict standard compliance e.g. with -std=c99. Either enable GNU extensions with e.g. -std=gnu99 or use __vector instead of vector.)<br>    Additionally a set of overloaded builtins is provided which is partially compatible to the PowerPC Altivec builtins. In order to make use of these builtins the vecintrin.h header file needs to be included.<br>    The new command line options -march=native, and -mtune=native are now available on native IBM z Systems. Specifying these options will cause GCC to auto-detect the host CPU and rewrite these options to the optimal setting for that system. If GCC is unable to detect the host CPU these options have no effect.<br>    The IBM z Systems port now supports target attributes and pragmas. Please refer to the documentation for details of available attributes and pragmas as well as usage instructions.<br>    -fsplit-stack is now supported as part of the IBM z Systems port. This feature requires a recent gold linker to be used.<br>    Support for the g5 and g6 -march=/-mtune= CPU level switches has been deprecated and will be removed in a future GCC release. -m31 from now on defaults to -march=z900 if not specified otherwise. -march=native on a g5/g6 machine will default to -march=z900.<br><br>SH<br><br>    Support for SH5 / SH64 has been declared obsolete and will be removed in future releases.<br>    Support for the FDPIC ABI has been added. It can be enabled using the new -mfdpic target option and --enable-fdpic configure option.<br><br>SPARC<br><br>    An ABI bug has been fixed in 64-bit mode. Unfortunately, this change will break binary compatibility with earlier releases for code it affects, but this should be pretty rare in practice. The conditions are: a 16-byte structure containing a double or a 8-byte vector in the second half is passed to a subprogram in slot #15, for example as 16th parameter if the first 15 ones have at most 8 bytes. The double or vector was wrongly passed in floating-point register %d32 in lieu of on the stack as per the SPARC calling conventions.<br><br>Operating Systems<br>AIX<br><br>    DWARF debugging support for AIX 7.1 has been enabled as an optional debugging format. A more recent Technology Level (TL) and GCC built with that level are required for full exploitation of DWARF debugging capabilities.<br><br>Linux<br><br>    Support for the musl C library was added for the AArch64, ARM, MicroBlaze, MIPS, MIPS64, PowerPC, PowerPC64, SH, i386, x32 and x86_64 targets. It can be selected using the new -mmusl option in case musl is not the default libc. GCC defaults to musl libc if it is built with a target triplet matching the *-linux-musl* pattern.<br><br>RTEMS<br><br>    The RTEMS thread model implementation changed. Mutexes now use self-contained objects defined in Newlib &lt;sys/lock.h&gt; instead of Classic API semaphores. The keys for thread specific data and the once function are directly defined via &lt;pthread.h&gt;. Self-contained condition variables are provided via Newlib &lt;sys/lock.h&gt;. The RTEMS thread model also supports C++11 threads.<br>    OpenMP support now uses self-contained objects provided by Newlib &lt;sys/lock.h&gt; and offers a significantly better performance compared to the POSIX configuration of libgomp. It is possible to configure thread pools for each scheduler instance via the environment variable GOMP_RTEMS_THREAD_POOLS.<br><br>Solaris<br><br>    Solaris 12 is now fully supported. Minimal support had already been present in GCC 5.3.<br>    Solaris 12 provides a full set of startup files (crt1.o, crti.o, crtn.o), which GCC now prefers over its own ones.<br>    Position independent executables (PIE) are now supported on Solaris 12.<br>    Constructor priority is now supported on Solaris 12 with the system linker.<br>    libvtv has been ported to Solaris 11 and up.<br><br>Windows<br><br>    The option -mstackrealign is now automatically activated in 32-bit mode whenever the use of SSE instructions is requested.<br><br>Other significant improvements<br><br>    The gcc and g++ driver programs will now provide suggestions for misspelled command line options.<br><br>        $ gcc -static-libfortran test.f95<br>        gcc: error: unrecognized command line option &#x27;-static-libfortran&#x27;; did you mean &#x27;-static-libgfortran&#x27;?<br><br>    The --enable-default-pie configure option enables generation of PIE by default.<br><br>Non exhaustive list of bug fixes in GCC 6.2.0 release:<br><br>77463 internal compiler error: in output_move_qimode<br>71092 [6/7 Regression] ICE: in cxx_eval_call_expression<br>77034 [6.2RC regression] g++.dg/init/elide5.C fails on powerpc64-unknown-linux-gnu with -m32<br>70597 [6/7 Regression] cmd/go: deduplicate gccgo afiles by package path<br>71936 [6/7 Regression] ICE in wide_int_to_tree<br>77279 build error in isl/ctx.h<br>67419 gfortran.dg/large_real_kind_2.F90 FAILs<br>73434 [6/7 Regression] Wrong code with casting<br>71972 [6 Regression] ICE with &quot;&quot;-std=c++14&quot;&quot; on x86_64-linux-gnu (internal compiler error: Segmentation fault<br>72819 [AArch64] ABI error: HFA structs of __fp16 incorrectly passed to functions<br>73456 [6/7 regression][concepts] ICE in non_atomic_constraint_p<br>72853 gcc/testsuite/gcc.c-torture/execute/20021120-1.c generates incorrect stxssp op with -mcpu=power9<br>71981 [6/7 Regression] ICE at -O2 and -O3 on x86_64-linux-gnu (internal compiler error: in get_dynamic_type<br>71881 [6 Regression] ICE on valid code at -O3 with -g enabled on x86_64-linux-gnu: cannot update SSA form<br>72802 powerpc64le: -mcpu=power9 emits lxssp instruction with offset that isn&#x27;t a multiple of 4<br>72800 [5/6 Regression] ICE on invalid C++14 code with initialized lambda capture: tree check: expected class ‘type’<br>70040 [5 Regression] ICE in gimplify.c with deferred-length strings<br>72699 [6/7 Regression] ICE in gfc_check_dependency<br>70677 Suboptimal cond on AVR: unneeded stack frame<br>71853 [6/7 regression] ICE on an ill-formed case statement in c_do_switch_warnings<br>72457 [6/7 Regression] ICE: Segmentation fault<br>71738 [4.9/5/6/7 Regression] ICE on valid C++ code: tree check: expected record_type or union_type or qual_union_type<br>71350 [4.9/5/6/7 regression] ICE on trailing return type declaration with initializer list<br>70847 [6/7 Regression] exponential time in cp_fold for chained virtual function calls<br>71756 [5/6/7 Regression] internal compiler error: in ~saved_token_sentinel<br>71147 [6 Regression] Flexible array member wrongly rejected in template<br>67579 [concepts] Memoization for constraint expressions<br>67565 [concepts] Very slow compile time and high memory usage with complex concept definitions<br>71941 [6/7 Regression] ICE with OpenMP tasks and queue<br>71495 [6/7 Regression] Spurious &quot;&quot;note: initializing argument ... of ...&quot;&quot; without any warning/error<br>70822 [6 Regression] bogus &quot;&quot;error: lvalue required as unary ‘&amp;’ operand&quot;&quot; with C++14 parenthesized SCOPE_REF<br>71718 [6/7 Regression] ICE on erroneous recursive template error printing<br>70824 [6/7 Regression] cc1plus consumes all available memory on specific template code<br>70781 [6/7 Regression] ICE on invalid C++ code with lambda expressions on x86_64-linux-gnu in finish_expr_stmt<br>71896 [6/7 Regression] Constexpr function with pointer to member parameter doesn&#x27;t return constexpr value<br>71117 [6/7 Regression] Overeager application of conversion to function pointer during overload resolution of call to function object<br>71511 [6/7 Regression] ICE on valid C++11 code (with decltype) on x86_64-linux-gnu: in cxx_incomplete_type_diagnostic<br>71513 [6/7 Regression] ICE on valid C++11 code (with alignas specifier) on x86_64-linux-gnu: Segmentation fault<br>71604 [6/7 Regression] ICE on valid C++11 code with range-based for loop: in pop_binding<br>71711 [6/7 Regression] ICE on valid C++1z code with fold expression: tree check: expected tree_vec<br>71814 [6/7 Regression] ICE on valid C++11 code: in write_type<br>70972 [6 Regression] Inheriting constructors taking parameters by value should move them<br>71856 [6/7 Regression] _GLIBCXX_DEBUG-mode breaks GNU parallel extension<br>71916 [6/7 Regression] ICE at -O3 on valid code on x86_64-linux-gnu in &quot;&quot;maybe_record_trace_start<br>71835 [6/7 Regression] ICE on invalid C++ code with ambiguous overloaded operators: tree check: expected tree that contains ‘decl minimal’ structure<br>71828 [6/7 regression] ICE on valid C++11 code with constexpr __Complex int variable declaration: in operand_equal_p<br>71822 [6/7 Regression] ICE: in gimplify_expr<br>70869 [6 Regression] internal compiler error: Segmentation fault on array of pointer to function members<br>71493 [6/7 regression] accidental ABI change for structure return on PowerPC<br>69515 partial specialization of variable templates is broken<br>70584 constexpr variables cannot be used as intrinsic arguments where an immediate is expected<br>71164 [6/7 Regression] tree check fail at cp/pt.c:12961<br>71733 ICE in vmx test cases with -mcpu=power9<br>71624 [6 regression][CHKP] internal compiler error: in duplicate_thunk_for_node<br>71823 [6/7 Regression] g++ segfaults with -mfma and -ftree-slp-vectorize<br>71173 [6/7 regression] Qualified name lookup<br>70685 [6/7 Regression] ICE: Segmentation fault<br>70222 Test miscompiled with -O1<br>71100 [6/7 regression] Internal compiler error while calling a pointer to member function that throws<br>71739 [6/7 Regression] ICE on valid C++11 code: tree check: expected identifier_node<br>70916 [6 Regression] gcc ICE at -O3 on valid code on x86_64-linux-gnu in &quot;&quot;tree_operand_check<br>71521 [6 Regression] Regression in GCC-7.0.0&#x27;s optimizer<br>30417 Section .data cannot be moved with -mmcu=atmega88<br>71057 [6 Regression] ICE in schedule_generic_params_dies_gen<br>71056 [6 Regression] __builtin<br>70540 [4.9/5 Regression] ICE on invalid code in cxx_incomple</td>\n",
       "        <td>1415</td>\n",
       "        <td>1</td>\n",
       "    </tr>\n",
       "</table>"
      ],
      "text/plain": [
       "[('a72e7f82540f7b45fb177759032336e5bcaf0dee', 'bassosimone', datetime.datetime(2014, 2, 22, 22, 44, 9, tzinfo=psycopg2.tz.FixedOffsetTimezone(offset=60, name=None)), 'bassosimone@gmail.com', 'Simone Basso', \"Makefile.in: add -Wunreachable-code\\n\\nI was reading about the CVE-2014-1266 SSL/TLS Apple bug on\\nImperialViolet and learnt that clang has a separat ... (64 characters truncated) ... cluded\\nin the -Wall warnings [1].\\n\\nSo, let's add -Wunreachable-code to Makefile.in.\\n\\n[1] https://www.imperialviolet.org/2014/02/22/applebug.html\", 2, 1),\n",
       " ('ab9b061b32c4897a36eddb17ca309dd4f6d8e68f', '', datetime.datetime(2016, 9, 12, 22, 13, 54, tzinfo=psycopg2.tz.FixedOffsetTimezone(offset=120, name=None)), 'maya', 'maya', 'add packages gcc6, gcc6-libs (GCC 6.2.0), based on wip/gcc6snapshot\\nXXX add logic to mk/compiler/gcc.mk\\n\\nChanges from GCC5 series:\\n\\nCaveats\\n\\n  ... (35446 characters truncated) ...  [6 Regression] ICE in schedule_generic_params_dies_gen\\n71056 [6 Regression] __builtin\\n70540 [4.9/5 Regression] ICE on invalid code in cxx_incomple', 1415, 1)]"
      ]
     },
     "execution_count": 6,
     "metadata": {},
     "output_type": "execute_result"
    }
   ],
   "source": [
    "    %sql SELECT * FROM view_commit_data_search_for_CVE WHERE message ~ 'CVE-2014-1266'"
   ]
  },
  {
   "cell_type": "code",
   "execution_count": 85,
   "metadata": {},
   "outputs": [
    {
     "data": {
      "text/html": [
       "<iframe id=\"igraph\" scrolling=\"no\" style=\"border:none;\" seamless=\"seamless\" src=\"https://plot.ly/~flxw/13.embed\" height=\"525px\" width=\"100%\"></iframe>"
      ],
      "text/plain": [
       "<plotly.tools.PlotlyDisplay object>"
      ]
     },
     "execution_count": 85,
     "metadata": {},
     "output_type": "execute_result"
    }
   ],
   "source": [
    "import plotly.plotly as ply\n",
    "import plotly.graph_objs as go\n",
    "import pandas as pd\n",
    "\n",
    "query = \"\"\"\n",
    "SELECT cve, COUNT(a.sha) AS shacnt FROM (\n",
    "    SELECT  sha, regexp_matches(message, 'CVE-[0-9]{3,4}-[0-9]{3,7}', 'g') as cve\n",
    "    FROM view_commit_data_search_for_CVE) a\n",
    "GROUP BY a.cve ORDER BY shacnt DESC LIMIT 30\"\"\"\n",
    "\n",
    "df = pd.read_sql_query(query, connection)\n",
    "ply.iplot({\n",
    "    'data': [go.Bar(x=df.cve, y=df.shacnt)],\n",
    "    'layout': {\n",
    "        'title': \"Mentions per CVE\"\n",
    "    }\n",
    "}, filename=\"mentions-per-cve\")"
   ]
  },
  {
   "cell_type": "code",
   "execution_count": 48,
   "metadata": {},
   "outputs": [
    {
     "name": "stdout",
     "output_type": "stream",
     "text": [
      "10 rows affected.\n"
     ]
    },
    {
     "data": {
      "text/html": [
       "<table>\n",
       "    <tr>\n",
       "        <th>cve</th>\n",
       "        <th>shacnt</th>\n",
       "    </tr>\n",
       "    <tr>\n",
       "        <td>[&#x27;CVE-2015-1805&#x27;]</td>\n",
       "        <td>1696</td>\n",
       "    </tr>\n",
       "    <tr>\n",
       "        <td>[&#x27;CVE-2014-3153&#x27;]</td>\n",
       "        <td>1064</td>\n",
       "    </tr>\n",
       "    <tr>\n",
       "        <td>[&#x27;CVE-2013-4312&#x27;]</td>\n",
       "        <td>1044</td>\n",
       "    </tr>\n",
       "    <tr>\n",
       "        <td>[&#x27;CVE-2017-7184&#x27;]</td>\n",
       "        <td>1038</td>\n",
       "    </tr>\n",
       "    <tr>\n",
       "        <td>[&#x27;CVE-2014-7970&#x27;]</td>\n",
       "        <td>901</td>\n",
       "    </tr>\n",
       "    <tr>\n",
       "        <td>[&#x27;CVE-2017-2618&#x27;]</td>\n",
       "        <td>878</td>\n",
       "    </tr>\n",
       "    <tr>\n",
       "        <td>[&#x27;CVE-2015-7550&#x27;]</td>\n",
       "        <td>863</td>\n",
       "    </tr>\n",
       "    <tr>\n",
       "        <td>[&#x27;CVE-2016-7097&#x27;]</td>\n",
       "        <td>838</td>\n",
       "    </tr>\n",
       "    <tr>\n",
       "        <td>[&#x27;CVE-2016-0774&#x27;]</td>\n",
       "        <td>792</td>\n",
       "    </tr>\n",
       "    <tr>\n",
       "        <td>[&#x27;CVE-2015-8543&#x27;]</td>\n",
       "        <td>748</td>\n",
       "    </tr>\n",
       "</table>"
      ],
      "text/plain": [
       "[(['CVE-2015-1805'], 1696),\n",
       " (['CVE-2014-3153'], 1064),\n",
       " (['CVE-2013-4312'], 1044),\n",
       " (['CVE-2017-7184'], 1038),\n",
       " (['CVE-2014-7970'], 901),\n",
       " (['CVE-2017-2618'], 878),\n",
       " (['CVE-2015-7550'], 863),\n",
       " (['CVE-2016-7097'], 838),\n",
       " (['CVE-2016-0774'], 792),\n",
       " (['CVE-2015-8543'], 748)]"
      ]
     },
     "execution_count": 48,
     "metadata": {},
     "output_type": "execute_result"
    }
   ],
   "source": [
    "%%sql\n",
    "SELECT cve, COUNT(a.sha) AS shacnt FROM (\n",
    "    SELECT  sha, regexp_matches(message, 'CVE-[0-9]{3,4}-[0-9]{3,7}', 'g') as cve\n",
    "    FROM view_commit_data_search_for_CVE) a\n",
    "GROUP BY a.cve ORDER BY shacnt DESC\n",
    "LIMIT 10"
   ]
  },
  {
   "cell_type": "markdown",
   "metadata": {},
   "source": [
    "## CVE-2015-1805\n",
    "The (1) pipe_read and (2) pipe_write implementations in fs/pipe.c in the Linux kernel before 3.16 do not properly consider the side effects of failed `__copy_to_user_inatomic` and `__copy_from_user_inatomic` calls, which allows local users to cause a denial of service (system crash) or possibly gain privileges via a crafted application, aka an \"I/O vector array overrun.\" \n",
    "\n",
    "## CVE-2014-3153\n",
    "The futex_requeue function in kernel/futex.c in the Linux kernel through 3.14.5 does not ensure that calls have two different futex addresses, which allows local users to gain privileges via a crafted FUTEX_REQUEUE command that facilitates unsafe waiter modification. \n",
    "\n",
    "## CVE-2013-4312\n",
    "The Linux kernel before 4.4.1 allows local users to bypass file-descriptor limits and cause a denial of service (memory consumption) by sending each descriptor over a UNIX socket before closing it, related to net/unix/af_unix.c and net/unix/garbage.c. "
   ]
  },
  {
   "cell_type": "code",
   "execution_count": 91,
   "metadata": {},
   "outputs": [
    {
     "data": {
      "text/html": [
       "<iframe id=\"igraph\" scrolling=\"no\" style=\"border:none;\" seamless=\"seamless\" src=\"https://plot.ly/~flxw/17.embed\" height=\"525px\" width=\"100%\"></iframe>"
      ],
      "text/plain": [
       "<plotly.tools.PlotlyDisplay object>"
      ]
     },
     "execution_count": 91,
     "metadata": {},
     "output_type": "execute_result"
    }
   ],
   "source": [
    "import plotly.plotly as ply\n",
    "import plotly.graph_objs as go\n",
    "import pandas as pd\n",
    "\n",
    "query = \"SELECT DATE(timestamp), COUNT(sha) AS shacount FROM view_commit_data_search_for_cve GROUP BY date ORDER BY date\"\n",
    "df = pd.read_sql_query(query, connection)\n",
    "ply.iplot({\n",
    "    'data': [go.Scatter(x=df.date, y=df.shacount)],\n",
    "    'layout': {\n",
    "        'title': \"CVE reactions over time\",\n",
    "        'xaxis': dict(range = ['2012-01-01','2017-12-31'])\n",
    "    }}, filename=\"cve-reactions-over-time\")"
   ]
  },
  {
   "cell_type": "code",
   "execution_count": 126,
   "metadata": {},
   "outputs": [
    {
     "data": {
      "text/html": [
       "<iframe id=\"igraph\" scrolling=\"no\" style=\"border:none;\" seamless=\"seamless\" src=\"https://plot.ly/~flxw/19.embed\" height=\"525px\" width=\"100%\"></iframe>"
      ],
      "text/plain": [
       "<plotly.tools.PlotlyDisplay object>"
      ]
     },
     "execution_count": 126,
     "metadata": {},
     "output_type": "execute_result"
    }
   ],
   "source": [
    "import plotly.plotly as ply\n",
    "import plotly.graph_objs as go\n",
    "import pandas as pd\n",
    "import datetime as dt\n",
    "\n",
    "query = \"\"\"\n",
    "SELECT a.date, a.shacount/b.shacount::float AS shacount\n",
    "FROM (\n",
    "    SELECT DATE(timestamp) as date, COUNT(sha) AS shacount\n",
    "    FROM view_commit_data_search_for_cve\n",
    "    GROUP BY date\n",
    "    ORDER BY date\n",
    ") a\n",
    "INNER JOIN\n",
    "view_commit_data_commits_per_day b\n",
    "ON a.date = b.date\n",
    "\"\"\"\n",
    "\n",
    "df = pd.read_sql_query(query, connection)\n",
    "\n",
    "#df.date = pd.to_datetime(df.date)\n",
    "#df.date = df.date.map(dt.datetime.toordinal)\n",
    "#slope, intercept, r_value, p_value, std_err = stats.linregress(df.date,df.shacount)\n",
    "#line = slope*df.date+intercept\n",
    "#df.date = df.date.map(dt.datetime.toordinal)\n",
    "#df.date = pd.to_datetime(df.date)\n",
    "\n",
    "ply.iplot({\n",
    "    'data': [\n",
    "        go.Scatter(x=df.date, y=df.shacount)\n",
    "    ],\n",
    "    'layout': {\n",
    "        'title': \"Adjusted reactions to CVE entries over time\",\n",
    "        'xaxis': { 'range': ['2012-01-01','2017-12-31']},\n",
    "        'yaxis': { 'range': [0, 0.003], 'title': 'Percentage of total commits on a given day', 'tickformat': '.2%'}\n",
    "    }}, filename=\"cve-reactions-adjusted-over-time\")"
   ]
  },
  {
   "cell_type": "code",
   "execution_count": 92,
   "metadata": {},
   "outputs": [
    {
     "name": "stdout",
     "output_type": "stream",
     "text": [
      "5 rows affected.\n"
     ]
    },
    {
     "data": {
      "text/html": [
       "<table>\n",
       "    <tr>\n",
       "        <th>monthyear</th>\n",
       "        <th>shacnt</th>\n",
       "    </tr>\n",
       "    <tr>\n",
       "        <td>2017/7</td>\n",
       "        <td>5571</td>\n",
       "    </tr>\n",
       "    <tr>\n",
       "        <td>2017/6</td>\n",
       "        <td>5529</td>\n",
       "    </tr>\n",
       "    <tr>\n",
       "        <td>2017/5</td>\n",
       "        <td>4787</td>\n",
       "    </tr>\n",
       "    <tr>\n",
       "        <td>2017/8</td>\n",
       "        <td>4163</td>\n",
       "    </tr>\n",
       "    <tr>\n",
       "        <td>2016/10</td>\n",
       "        <td>3907</td>\n",
       "    </tr>\n",
       "</table>"
      ],
      "text/plain": [
       "[('2017/7', 5571),\n",
       " ('2017/6', 5529),\n",
       " ('2017/5', 4787),\n",
       " ('2017/8', 4163),\n",
       " ('2016/10', 3907)]"
      ]
     },
     "execution_count": 92,
     "metadata": {},
     "output_type": "execute_result"
    }
   ],
   "source": [
    "%%sql\n",
    "SELECT year || '/' || month AS MONTHYEAR, COUNT(sha) AS shacnt FROM (\n",
    "    SELECT EXTRACT(MONTH FROM timestamp) AS month,\n",
    "           EXTRACT(YEAR FROM timestamp) AS year,\n",
    "           sha\n",
    "    FROM view_commit_data_search_for_cve) a\n",
    "GROUP BY year, month\n",
    "ORDER BY shacnt DESC\n",
    "LIMIT 5"
   ]
  },
  {
   "cell_type": "code",
   "execution_count": 127,
   "metadata": {},
   "outputs": [
    {
     "data": {
      "text/html": [
       "<iframe id=\"igraph\" scrolling=\"no\" style=\"border:none;\" seamless=\"seamless\" src=\"https://plot.ly/~flxw/15.embed\" height=\"525px\" width=\"100%\"></iframe>"
      ],
      "text/plain": [
       "<plotly.tools.PlotlyDisplay object>"
      ]
     },
     "execution_count": 127,
     "metadata": {},
     "output_type": "execute_result"
    }
   ],
   "source": [
    "query1 = \"\"\"SELECT 'commits per CVE' AS label, AVG(shacount) AS value\n",
    "FROM (\n",
    "    SELECT  regexp_matches(message, 'CVE-[0-9]{3,4}-[0-9]{3,7}', 'g') as cve, COUNT(sha) AS shacount\n",
    "    FROM view_commit_data_search_for_CVE\n",
    "    GROUP BY cve) a\n",
    "\"\"\"\n",
    "query2 = \"\"\"SELECT 'CVE references per commit' AS label, AVG(cvecount) AS value\n",
    "FROM (\n",
    "    SELECT sha, COUNT(match) AS cvecount\n",
    "    FROM (\n",
    "        SELECT sha, regexp_matches(message, 'CVE-[0-9]{3,4}-[0-9]{3,7}', 'g') AS match\n",
    "        FROM view_commit_data_search_for_CVE\n",
    ") b\n",
    "GROUP BY sha) a\n",
    "\"\"\"\n",
    "\n",
    "df1 = pd.read_sql_query(query1, connection)\n",
    "df2 = pd.read_sql_query(query2, connection)\n",
    "df = pd.concat([df1,df2])\n",
    "\n",
    "ply.iplot({\n",
    "    'data': [go.Bar(x=df.label, y=df.value)],\n",
    "    'layout': {\n",
    "        'title': \"Commits per CVE vs. CVE references per commit\"\n",
    "    }\n",
    "}, filename=\"commits-per-cve-vs-cve-references-per-commit\")"
   ]
  },
  {
   "cell_type": "code",
   "execution_count": null,
   "metadata": {},
   "outputs": [],
   "source": []
  },
  {
   "cell_type": "code",
   "execution_count": 134,
   "metadata": {},
   "outputs": [
    {
     "name": "stdout",
     "output_type": "stream",
     "text": [
      "10 rows affected.\n"
     ]
    },
    {
     "data": {
      "text/html": [
       "<table>\n",
       "    <tr>\n",
       "        <th>cve</th>\n",
       "        <th>shacount</th>\n",
       "    </tr>\n",
       "    <tr>\n",
       "        <td>[&#x27;CVE-2015-6611&#x27;]</td>\n",
       "        <td>12</td>\n",
       "    </tr>\n",
       "    <tr>\n",
       "        <td>[&#x27;CVE-2015-3873&#x27;]</td>\n",
       "        <td>7</td>\n",
       "    </tr>\n",
       "    <tr>\n",
       "        <td>[&#x27;CVE-2015-6608&#x27;]</td>\n",
       "        <td>6</td>\n",
       "    </tr>\n",
       "    <tr>\n",
       "        <td>[&#x27;CVE-2015-6610&#x27;]</td>\n",
       "        <td>4</td>\n",
       "    </tr>\n",
       "    <tr>\n",
       "        <td>[&#x27;CVE-2015-3876&#x27;]</td>\n",
       "        <td>2</td>\n",
       "    </tr>\n",
       "    <tr>\n",
       "        <td>[&#x27;CVE-2015-6598&#x27;]</td>\n",
       "        <td>2</td>\n",
       "    </tr>\n",
       "    <tr>\n",
       "        <td>[&#x27;CVE-2015-3869&#x27;]</td>\n",
       "        <td>2</td>\n",
       "    </tr>\n",
       "    <tr>\n",
       "        <td>[&#x27;CVE-2015-3868&#x27;]</td>\n",
       "        <td>2</td>\n",
       "    </tr>\n",
       "    <tr>\n",
       "        <td>[&#x27;CVE-2015-3879&#x27;]</td>\n",
       "        <td>2</td>\n",
       "    </tr>\n",
       "    <tr>\n",
       "        <td>[&#x27;CVE-2015-6605&#x27;]</td>\n",
       "        <td>2</td>\n",
       "    </tr>\n",
       "</table>"
      ],
      "text/plain": [
       "[(['CVE-2015-6611'], 12),\n",
       " (['CVE-2015-3873'], 7),\n",
       " (['CVE-2015-6608'], 6),\n",
       " (['CVE-2015-6610'], 4),\n",
       " (['CVE-2015-3876'], 2),\n",
       " (['CVE-2015-6598'], 2),\n",
       " (['CVE-2015-3869'], 2),\n",
       " (['CVE-2015-3868'], 2),\n",
       " (['CVE-2015-3879'], 2),\n",
       " (['CVE-2015-6605'], 2)]"
      ]
     },
     "execution_count": 134,
     "metadata": {},
     "output_type": "execute_result"
    }
   ],
   "source": [
    "%%sql\n",
    "SELECT regexp_matches(message, 'CVE-[0-9]{3,4}-[0-9]{3,7}', 'g') as cve, COUNT(sha) AS shacount\n",
    "FROM view_commit_data_search_for_CVE\n",
    "WHERE DATE(timestamp) = '2015-12-28'\n",
    "GROUP BY cve\n",
    "ORDER BY shacount DESC\n",
    "LIMIT 10"
   ]
  },
  {
   "cell_type": "code",
   "execution_count": 160,
   "metadata": {},
   "outputs": [
    {
     "name": "stdout",
     "output_type": "stream",
     "text": [
      "20 rows affected.\n"
     ]
    },
    {
     "data": {
      "text/html": [
       "<table>\n",
       "    <tr>\n",
       "        <th>cve</th>\n",
       "        <th>shacount</th>\n",
       "    </tr>\n",
       "    <tr>\n",
       "        <td>[&#x27;CVE-2016-7412&#x27;]</td>\n",
       "        <td>8</td>\n",
       "    </tr>\n",
       "    <tr>\n",
       "        <td>[&#x27;CVE-2016-7417&#x27;]</td>\n",
       "        <td>8</td>\n",
       "    </tr>\n",
       "    <tr>\n",
       "        <td>[&#x27;CVE-2016-5340&#x27;]</td>\n",
       "        <td>8</td>\n",
       "    </tr>\n",
       "    <tr>\n",
       "        <td>[&#x27;CVE-2016-7416&#x27;]</td>\n",
       "        <td>8</td>\n",
       "    </tr>\n",
       "    <tr>\n",
       "        <td>[&#x27;CVE-2016-7414&#x27;]</td>\n",
       "        <td>8</td>\n",
       "    </tr>\n",
       "    <tr>\n",
       "        <td>[&#x27;CVE-2016-7413&#x27;]</td>\n",
       "        <td>8</td>\n",
       "    </tr>\n",
       "    <tr>\n",
       "        <td>[&#x27;CVE-2016-7418&#x27;]</td>\n",
       "        <td>8</td>\n",
       "    </tr>\n",
       "    <tr>\n",
       "        <td>[&#x27;CVE-2016-6304&#x27;]</td>\n",
       "        <td>7</td>\n",
       "    </tr>\n",
       "    <tr>\n",
       "        <td>[&#x27;CVE-2016-6303&#x27;]</td>\n",
       "        <td>7</td>\n",
       "    </tr>\n",
       "    <tr>\n",
       "        <td>[&#x27;CVE-2016-2182&#x27;]</td>\n",
       "        <td>7</td>\n",
       "    </tr>\n",
       "    <tr>\n",
       "        <td>[&#x27;CVE-2016-6306&#x27;]</td>\n",
       "        <td>7</td>\n",
       "    </tr>\n",
       "    <tr>\n",
       "        <td>[&#x27;CVE-2016-2180&#x27;]</td>\n",
       "        <td>7</td>\n",
       "    </tr>\n",
       "    <tr>\n",
       "        <td>[&#x27;CVE-2016-2183&#x27;]</td>\n",
       "        <td>7</td>\n",
       "    </tr>\n",
       "    <tr>\n",
       "        <td>[&#x27;CVE-2016-2181&#x27;]</td>\n",
       "        <td>7</td>\n",
       "    </tr>\n",
       "    <tr>\n",
       "        <td>[&#x27;CVE-2016-2178&#x27;]</td>\n",
       "        <td>7</td>\n",
       "    </tr>\n",
       "    <tr>\n",
       "        <td>[&#x27;CVE-2016-1238&#x27;]</td>\n",
       "        <td>7</td>\n",
       "    </tr>\n",
       "    <tr>\n",
       "        <td>[&#x27;CVE-2016-2179&#x27;]</td>\n",
       "        <td>7</td>\n",
       "    </tr>\n",
       "    <tr>\n",
       "        <td>[&#x27;CVE-2016-6302&#x27;]</td>\n",
       "        <td>7</td>\n",
       "    </tr>\n",
       "    <tr>\n",
       "        <td>[&#x27;CVE-2016-2177&#x27;]</td>\n",
       "        <td>7</td>\n",
       "    </tr>\n",
       "    <tr>\n",
       "        <td>[&#x27;CVE-2016-2059&#x27;]</td>\n",
       "        <td>6</td>\n",
       "    </tr>\n",
       "</table>"
      ],
      "text/plain": [
       "[(['CVE-2016-7412'], 8),\n",
       " (['CVE-2016-7417'], 8),\n",
       " (['CVE-2016-5340'], 8),\n",
       " (['CVE-2016-7416'], 8),\n",
       " (['CVE-2016-7414'], 8),\n",
       " (['CVE-2016-7413'], 8),\n",
       " (['CVE-2016-7418'], 8),\n",
       " (['CVE-2016-6304'], 7),\n",
       " (['CVE-2016-6303'], 7),\n",
       " (['CVE-2016-2182'], 7),\n",
       " (['CVE-2016-6306'], 7),\n",
       " (['CVE-2016-2180'], 7),\n",
       " (['CVE-2016-2183'], 7),\n",
       " (['CVE-2016-2181'], 7),\n",
       " (['CVE-2016-2178'], 7),\n",
       " (['CVE-2016-1238'], 7),\n",
       " (['CVE-2016-2179'], 7),\n",
       " (['CVE-2016-6302'], 7),\n",
       " (['CVE-2016-2177'], 7),\n",
       " (['CVE-2016-2059'], 6)]"
      ]
     },
     "execution_count": 160,
     "metadata": {},
     "output_type": "execute_result"
    }
   ],
   "source": [
    "%%sql\n",
    "SELECT regexp_matches(message, 'CVE-[0-9]{3,4}-[0-9]{3,7}', 'g') as cve, COUNT(sha) AS shacount\n",
    "FROM view_commit_data_search_for_CVE\n",
    "WHERE DATE(timestamp) = '2016-10-14'\n",
    "GROUP BY cve\n",
    "ORDER BY shacount DESC\n",
    "LIMIT 20"
   ]
  },
  {
   "cell_type": "markdown",
   "metadata": {},
   "source": [
    "# Basic system applications are most discussed"
   ]
  },
  {
   "cell_type": "code",
   "execution_count": 6,
   "metadata": {},
   "outputs": [
    {
     "ename": "TypeError",
     "evalue": "expected string or buffer",
     "output_type": "error",
     "traceback": [
      "\u001b[0;31m---------------------------------------------------------------------------\u001b[0m",
      "\u001b[0;31mTypeError\u001b[0m                                 Traceback (most recent call last)",
      "\u001b[0;32m<ipython-input-6-3e40d439c09e>\u001b[0m in \u001b[0;36m<module>\u001b[0;34m()\u001b[0m\n\u001b[1;32m     24\u001b[0m \u001b[0;34m\u001b[0m\u001b[0m\n\u001b[1;32m     25\u001b[0m \u001b[0;32mfor\u001b[0m \u001b[0mn\u001b[0m \u001b[0;32min\u001b[0m \u001b[0mendangeredSoftware\u001b[0m\u001b[0;34m:\u001b[0m\u001b[0;34m\u001b[0m\u001b[0m\n\u001b[0;32m---> 26\u001b[0;31m     \u001b[0mm\u001b[0m \u001b[0;34m=\u001b[0m \u001b[0monlyNameMatch\u001b[0m\u001b[0;34m.\u001b[0m\u001b[0mmatch\u001b[0m\u001b[0;34m(\u001b[0m\u001b[0mn\u001b[0m\u001b[0;34m)\u001b[0m\u001b[0;34m\u001b[0m\u001b[0m\n\u001b[0m\u001b[1;32m     27\u001b[0m     \u001b[0;32mif\u001b[0m \u001b[0mm\u001b[0m\u001b[0;34m:\u001b[0m\u001b[0;34m\u001b[0m\u001b[0m\n\u001b[1;32m     28\u001b[0m         \u001b[0mcleanedSoftwareNames\u001b[0m\u001b[0;34m.\u001b[0m\u001b[0mappend\u001b[0m\u001b[0;34m(\u001b[0m\u001b[0mm\u001b[0m\u001b[0;34m.\u001b[0m\u001b[0mgroups\u001b[0m\u001b[0;34m(\u001b[0m\u001b[0;36m0\u001b[0m\u001b[0;34m)\u001b[0m\u001b[0;34m[\u001b[0m\u001b[0;36m0\u001b[0m\u001b[0;34m]\u001b[0m\u001b[0;34m.\u001b[0m\u001b[0mstrip\u001b[0m\u001b[0;34m(\u001b[0m\u001b[0;34m)\u001b[0m\u001b[0;34m)\u001b[0m\u001b[0;34m\u001b[0m\u001b[0m\n",
      "\u001b[0;31mTypeError\u001b[0m: expected string or buffer"
     ]
    }
   ],
   "source": [
    "query = \"\"\"SELECT cve[1], COUNT(a.sha) AS shacnt FROM (\n",
    "    SELECT  sha, regexp_matches(message, 'CVE-[0-9]{3,4}-[0-9]{3,7}', 'g') as cve \n",
    "    FROM view_commit_data_search_for_CVE) a \n",
    "GROUP BY a.cve ORDER BY shacnt DESC \n",
    "LIMIT 250\"\"\"\n",
    "endangeredSoftware = []\n",
    "\n",
    "cursor.execute(query)\n",
    "\n",
    "for line in cursor:\n",
    "    requestUrl = \"http://127.0.0.1:5000/api/cve/{0}\".format(line[0])\n",
    "    cveJson = requests.get(requestUrl).json()\n",
    "    \n",
    "    if cveJson != None:\n",
    "        endangeredSoftware = endangeredSoftware + cveJson['vulnerable_configuration']\n",
    "\n",
    "#endangeredSoftware = [line['title'] for line in endangeredSoftware]\n",
    "# extract products and remove duplicates here\n",
    "onlyNameMatch = re.compile(\"^([A-Za-z ]+)\")\n",
    "cleanedSoftwareNames = []\n",
    "\n",
    "for n in endangeredSoftware:\n",
    "    m = onlyNameMatch.match(n)\n",
    "    if m:\n",
    "        cleanedSoftwareNames.append(m.groups(0)[0].strip())\n",
    "    else:\n",
    "        cleanedSoftwareNames.append(n)\n",
    "\n",
    "cleanedSoftwareNames = set(cleanedSoftwareNames)\n",
    "cleanedSoftwareNames[1:20]"
   ]
  },
  {
   "cell_type": "code",
   "execution_count": 12,
   "metadata": {},
   "outputs": [
    {
     "name": "stdout",
     "output_type": "stream",
     "text": [
      "25 rows affected.\n"
     ]
    },
    {
     "data": {
      "text/html": [
       "<table>\n",
       "    <tr>\n",
       "        <th>domain</th>\n",
       "        <th>ct</th>\n",
       "    </tr>\n",
       "    <tr>\n",
       "        <td>web.nvd.nist.gov</td>\n",
       "        <td>15156</td>\n",
       "    </tr>\n",
       "    <tr>\n",
       "        <td>goo.gl</td>\n",
       "        <td>3817</td>\n",
       "    </tr>\n",
       "    <tr>\n",
       "        <td>twitter.com</td>\n",
       "        <td>2787</td>\n",
       "    </tr>\n",
       "    <tr>\n",
       "        <td>github.com</td>\n",
       "        <td>2160</td>\n",
       "    </tr>\n",
       "    <tr>\n",
       "        <td>lnkd.in</td>\n",
       "        <td>1104</td>\n",
       "    </tr>\n",
       "    <tr>\n",
       "        <td>oss.sios.com</td>\n",
       "        <td>1030</td>\n",
       "    </tr>\n",
       "    <tr>\n",
       "        <td>protocol96.com</td>\n",
       "        <td>903</td>\n",
       "    </tr>\n",
       "    <tr>\n",
       "        <td>vuldb.com</td>\n",
       "        <td>711</td>\n",
       "    </tr>\n",
       "    <tr>\n",
       "        <td>access.redhat.com</td>\n",
       "        <td>603</td>\n",
       "    </tr>\n",
       "    <tr>\n",
       "        <td>marc.ttias.be</td>\n",
       "        <td>538</td>\n",
       "    </tr>\n",
       "    <tr>\n",
       "        <td>community.rapid7.com</td>\n",
       "        <td>486</td>\n",
       "    </tr>\n",
       "    <tr>\n",
       "        <td>blog.quttera.com</td>\n",
       "        <td>370</td>\n",
       "    </tr>\n",
       "    <tr>\n",
       "        <td>news.ycombinator.com</td>\n",
       "        <td>352</td>\n",
       "    </tr>\n",
       "    <tr>\n",
       "        <td>kb.isc.org</td>\n",
       "        <td>323</td>\n",
       "    </tr>\n",
       "    <tr>\n",
       "        <td>longislandtechnologynews.com</td>\n",
       "        <td>312</td>\n",
       "    </tr>\n",
       "    <tr>\n",
       "        <td>bugzilla.redhat.com</td>\n",
       "        <td>298</td>\n",
       "    </tr>\n",
       "    <tr>\n",
       "        <td>isc.sans.edu</td>\n",
       "        <td>270</td>\n",
       "    </tr>\n",
       "    <tr>\n",
       "        <td>gist.github.com</td>\n",
       "        <td>266</td>\n",
       "    </tr>\n",
       "    <tr>\n",
       "        <td>youtu.be</td>\n",
       "        <td>257</td>\n",
       "    </tr>\n",
       "    <tr>\n",
       "        <td>helpx.adobe.com</td>\n",
       "        <td>230</td>\n",
       "    </tr>\n",
       "    <tr>\n",
       "        <td>lwn.net</td>\n",
       "        <td>220</td>\n",
       "    </tr>\n",
       "    <tr>\n",
       "        <td>technet.microsoft.com</td>\n",
       "        <td>218</td>\n",
       "    </tr>\n",
       "    <tr>\n",
       "        <td>groups.google.com</td>\n",
       "        <td>193</td>\n",
       "    </tr>\n",
       "    <tr>\n",
       "        <td>rhn.redhat.com</td>\n",
       "        <td>186</td>\n",
       "    </tr>\n",
       "    <tr>\n",
       "        <td>jprs.jp</td>\n",
       "        <td>184</td>\n",
       "    </tr>\n",
       "</table>"
      ],
      "text/plain": [
       "[('web.nvd.nist.gov', 15156),\n",
       " ('goo.gl', 3817),\n",
       " ('twitter.com', 2787),\n",
       " ('github.com', 2160),\n",
       " ('lnkd.in', 1104),\n",
       " ('oss.sios.com', 1030),\n",
       " ('protocol96.com', 903),\n",
       " ('vuldb.com', 711),\n",
       " ('access.redhat.com', 603),\n",
       " ('marc.ttias.be', 538),\n",
       " ('community.rapid7.com', 486),\n",
       " ('blog.quttera.com', 370),\n",
       " ('news.ycombinator.com', 352),\n",
       " ('kb.isc.org', 323),\n",
       " ('longislandtechnologynews.com', 312),\n",
       " ('bugzilla.redhat.com', 298),\n",
       " ('isc.sans.edu', 270),\n",
       " ('gist.github.com', 266),\n",
       " ('youtu.be', 257),\n",
       " ('helpx.adobe.com', 230),\n",
       " ('lwn.net', 220),\n",
       " ('technet.microsoft.com', 218),\n",
       " ('groups.google.com', 193),\n",
       " ('rhn.redhat.com', 186),\n",
       " ('jprs.jp', 184)]"
      ]
     },
     "execution_count": 12,
     "metadata": {},
     "output_type": "execute_result"
    }
   ],
   "source": [
    "%%sql\n",
    "SELECT domain[1], COUNT(domain) AS ct\n",
    "FROM view_cve_referring_tweets_extracted_domains\n",
    "GROUP BY domain\n",
    "ORDER BY ct DESC\n",
    "LIMIT 25"
   ]
  }
 ],
 "metadata": {
  "kernelspec": {
   "display_name": "Python 3",
   "language": "python",
   "name": "python3"
  },
  "language_info": {
   "codemirror_mode": {
    "name": "ipython",
    "version": 3
   },
   "file_extension": ".py",
   "mimetype": "text/x-python",
   "name": "python",
   "nbconvert_exporter": "python",
   "pygments_lexer": "ipython3",
   "version": "3.4.2"
  }
 },
 "nbformat": 4,
 "nbformat_minor": 2
}
